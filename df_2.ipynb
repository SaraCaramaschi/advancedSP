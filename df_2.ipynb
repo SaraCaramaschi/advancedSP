{
 "cells": [
  {
   "cell_type": "code",
   "execution_count": 28,
   "metadata": {
    "collapsed": true,
    "pycharm": {
     "name": "#%%\n"
    }
   },
   "outputs": [],
   "source": [
    "# Import tutto quanto\n",
    "import pandas as pd\n",
    "import matplotlib.pyplot as plt\n",
    "import seaborn as sns\n",
    "import numpy as np\n",
    "import copy"
   ]
  },
  {
   "cell_type": "code",
   "execution_count": 29,
   "outputs": [
    {
     "data": {
      "text/plain": "Index(['recordid', 'SAPS-I', 'SOFA', 'In-hospital_death', 'Age', 'Gender',\n       'Height', 'Weight', 'CCU', 'CSRU',\n       ...\n       'Platelets_last', 'TroponinI_last', 'TroponinT_last', 'WBC_last',\n       'Weight_last', 'pH_last', 'MechVentStartTime', 'MechVentDuration',\n       'MechVentLast8Hour', 'UrineOutputSum'],\n      dtype='object', length=121)"
     },
     "execution_count": 29,
     "metadata": {},
     "output_type": "execute_result"
    }
   ],
   "source": [
    "# LOADING DATA\n",
    "\n",
    "df=pd.read_csv(\"ICU_Challenge_Dataset.csv\", sep=\",\")\n",
    "df_description = df.describe()\n",
    "columns = df.columns\n",
    "columns"
   ],
   "metadata": {
    "collapsed": false,
    "pycharm": {
     "name": "#%%\n"
    }
   }
  },
  {
   "cell_type": "code",
   "execution_count": 30,
   "outputs": [
    {
     "name": "stdout",
     "output_type": "stream",
     "text": [
      "                         column_name  percent_missing\n",
      "recordid                    recordid         0.000000\n",
      "SAPS-I                        SAPS-I         0.000000\n",
      "SOFA                            SOFA         0.000000\n",
      "In-hospital_death  In-hospital_death         0.000000\n",
      "Age                              Age         0.000000\n",
      "...                              ...              ...\n",
      "TroponinT_first      TroponinT_first        77.766667\n",
      "Cholesterol_last    Cholesterol_last        92.133333\n",
      "Cholesterol_first  Cholesterol_first        92.133333\n",
      "TroponinI_last        TroponinI_last        95.250000\n",
      "TroponinI_first      TroponinI_first        95.250000\n",
      "\n",
      "[121 rows x 2 columns]\n"
     ]
    }
   ],
   "source": [
    "# MISSING DATA - da esplorare\n",
    "# print(df[df.columns[df.isna().any()]])\n",
    "percent_missing = df.isnull().sum() * 100 / len(df)\n",
    "missing_value_df = pd.DataFrame({'column_name': df.columns,\n",
    "                                 'percent_missing': percent_missing})\n",
    "missing_value_df.sort_values('percent_missing', inplace=True)\n",
    "print(missing_value_df)"
   ],
   "metadata": {
    "collapsed": false,
    "pycharm": {
     "name": "#%%\n"
    }
   }
  },
  {
   "cell_type": "code",
   "execution_count": 31,
   "outputs": [
    {
     "data": {
      "text/plain": "      recordid  SAPS-I  SOFA  In-hospital_death   Age  CCU  CSRU  SICU  \\\n0       132539       6     1                  0  54.0    0     0     1   \n1       132540      16     8                  0  76.0    0     1     0   \n2       132541      21    11                  0  44.0    0     0     0   \n3       132543       7     1                  0  68.0    0     0     0   \n4       132545      17     2                  0  88.0    0     0     0   \n...        ...     ...   ...                ...   ...  ...   ...   ...   \n5995    151939      19     6                  1  52.0    0     0     1   \n5996    151383      13     2                  0  90.0    1     0     0   \n5997    149623      12     9                  0  72.0    1     0     0   \n5998    145366      18    11                  1  52.0    0     0     0   \n5999    146804      19     9                  0  55.0    0     1     0   \n\n      Gender  BUN_first  ...  Weight_first  FiO2_last  FiO2_first  \\\n0        0.0       13.0  ...           NaN        NaN         NaN   \n1        1.0       16.0  ...          80.6       0.40         1.0   \n2        0.0        8.0  ...          56.7       0.40         1.0   \n3        1.0       23.0  ...          84.6        NaN         NaN   \n4        0.0       45.0  ...           NaN        NaN         NaN   \n...      ...        ...  ...           ...        ...         ...   \n5995     1.0       11.0  ...           NaN       0.40         0.6   \n5996     0.0       20.0  ...          72.9       1.00         1.0   \n5997     0.0       62.0  ...           NaN       0.35         0.5   \n5998     1.0       16.0  ...          95.9       0.50         1.0   \n5999     1.0       14.0  ...          98.1       0.50         1.0   \n\n      MechVentDuration  MechVentStartTime  UrineOutputSum  MechVentLast8Hour  \\\n0                  NaN                NaN             NaN                NaN   \n1                360.0               71.0             5.0                0.0   \n2               2160.0              617.0            14.0                1.0   \n3                  NaN                NaN             NaN                NaN   \n4                  NaN                NaN             NaN                NaN   \n...                ...                ...             ...                ...   \n5995            2440.0              238.0            17.0                1.0   \n5996               NaN                NaN             NaN                NaN   \n5997            1200.0              188.0            10.0                0.0   \n5998            2760.0              100.0            27.0                1.0   \n5999             960.0              332.0             7.0                0.0   \n\n      Lactate_first  Lactate_last  Height  \n0               NaN           NaN     NaN  \n1               NaN           NaN   175.3  \n2               1.3           0.9     NaN  \n3               NaN           NaN   180.3  \n4               NaN           NaN     NaN  \n...             ...           ...     ...  \n5995            NaN           NaN     NaN  \n5996            NaN           NaN   157.5  \n5997            1.4           1.4     NaN  \n5998            9.9           8.2   182.9  \n5999            NaN           NaN   177.8  \n\n[6000 rows x 95 columns]",
      "text/html": "<div>\n<style scoped>\n    .dataframe tbody tr th:only-of-type {\n        vertical-align: middle;\n    }\n\n    .dataframe tbody tr th {\n        vertical-align: top;\n    }\n\n    .dataframe thead th {\n        text-align: right;\n    }\n</style>\n<table border=\"1\" class=\"dataframe\">\n  <thead>\n    <tr style=\"text-align: right;\">\n      <th></th>\n      <th>recordid</th>\n      <th>SAPS-I</th>\n      <th>SOFA</th>\n      <th>In-hospital_death</th>\n      <th>Age</th>\n      <th>CCU</th>\n      <th>CSRU</th>\n      <th>SICU</th>\n      <th>Gender</th>\n      <th>BUN_first</th>\n      <th>...</th>\n      <th>Weight_first</th>\n      <th>FiO2_last</th>\n      <th>FiO2_first</th>\n      <th>MechVentDuration</th>\n      <th>MechVentStartTime</th>\n      <th>UrineOutputSum</th>\n      <th>MechVentLast8Hour</th>\n      <th>Lactate_first</th>\n      <th>Lactate_last</th>\n      <th>Height</th>\n    </tr>\n  </thead>\n  <tbody>\n    <tr>\n      <th>0</th>\n      <td>132539</td>\n      <td>6</td>\n      <td>1</td>\n      <td>0</td>\n      <td>54.0</td>\n      <td>0</td>\n      <td>0</td>\n      <td>1</td>\n      <td>0.0</td>\n      <td>13.0</td>\n      <td>...</td>\n      <td>NaN</td>\n      <td>NaN</td>\n      <td>NaN</td>\n      <td>NaN</td>\n      <td>NaN</td>\n      <td>NaN</td>\n      <td>NaN</td>\n      <td>NaN</td>\n      <td>NaN</td>\n      <td>NaN</td>\n    </tr>\n    <tr>\n      <th>1</th>\n      <td>132540</td>\n      <td>16</td>\n      <td>8</td>\n      <td>0</td>\n      <td>76.0</td>\n      <td>0</td>\n      <td>1</td>\n      <td>0</td>\n      <td>1.0</td>\n      <td>16.0</td>\n      <td>...</td>\n      <td>80.6</td>\n      <td>0.40</td>\n      <td>1.0</td>\n      <td>360.0</td>\n      <td>71.0</td>\n      <td>5.0</td>\n      <td>0.0</td>\n      <td>NaN</td>\n      <td>NaN</td>\n      <td>175.3</td>\n    </tr>\n    <tr>\n      <th>2</th>\n      <td>132541</td>\n      <td>21</td>\n      <td>11</td>\n      <td>0</td>\n      <td>44.0</td>\n      <td>0</td>\n      <td>0</td>\n      <td>0</td>\n      <td>0.0</td>\n      <td>8.0</td>\n      <td>...</td>\n      <td>56.7</td>\n      <td>0.40</td>\n      <td>1.0</td>\n      <td>2160.0</td>\n      <td>617.0</td>\n      <td>14.0</td>\n      <td>1.0</td>\n      <td>1.3</td>\n      <td>0.9</td>\n      <td>NaN</td>\n    </tr>\n    <tr>\n      <th>3</th>\n      <td>132543</td>\n      <td>7</td>\n      <td>1</td>\n      <td>0</td>\n      <td>68.0</td>\n      <td>0</td>\n      <td>0</td>\n      <td>0</td>\n      <td>1.0</td>\n      <td>23.0</td>\n      <td>...</td>\n      <td>84.6</td>\n      <td>NaN</td>\n      <td>NaN</td>\n      <td>NaN</td>\n      <td>NaN</td>\n      <td>NaN</td>\n      <td>NaN</td>\n      <td>NaN</td>\n      <td>NaN</td>\n      <td>180.3</td>\n    </tr>\n    <tr>\n      <th>4</th>\n      <td>132545</td>\n      <td>17</td>\n      <td>2</td>\n      <td>0</td>\n      <td>88.0</td>\n      <td>0</td>\n      <td>0</td>\n      <td>0</td>\n      <td>0.0</td>\n      <td>45.0</td>\n      <td>...</td>\n      <td>NaN</td>\n      <td>NaN</td>\n      <td>NaN</td>\n      <td>NaN</td>\n      <td>NaN</td>\n      <td>NaN</td>\n      <td>NaN</td>\n      <td>NaN</td>\n      <td>NaN</td>\n      <td>NaN</td>\n    </tr>\n    <tr>\n      <th>...</th>\n      <td>...</td>\n      <td>...</td>\n      <td>...</td>\n      <td>...</td>\n      <td>...</td>\n      <td>...</td>\n      <td>...</td>\n      <td>...</td>\n      <td>...</td>\n      <td>...</td>\n      <td>...</td>\n      <td>...</td>\n      <td>...</td>\n      <td>...</td>\n      <td>...</td>\n      <td>...</td>\n      <td>...</td>\n      <td>...</td>\n      <td>...</td>\n      <td>...</td>\n      <td>...</td>\n    </tr>\n    <tr>\n      <th>5995</th>\n      <td>151939</td>\n      <td>19</td>\n      <td>6</td>\n      <td>1</td>\n      <td>52.0</td>\n      <td>0</td>\n      <td>0</td>\n      <td>1</td>\n      <td>1.0</td>\n      <td>11.0</td>\n      <td>...</td>\n      <td>NaN</td>\n      <td>0.40</td>\n      <td>0.6</td>\n      <td>2440.0</td>\n      <td>238.0</td>\n      <td>17.0</td>\n      <td>1.0</td>\n      <td>NaN</td>\n      <td>NaN</td>\n      <td>NaN</td>\n    </tr>\n    <tr>\n      <th>5996</th>\n      <td>151383</td>\n      <td>13</td>\n      <td>2</td>\n      <td>0</td>\n      <td>90.0</td>\n      <td>1</td>\n      <td>0</td>\n      <td>0</td>\n      <td>0.0</td>\n      <td>20.0</td>\n      <td>...</td>\n      <td>72.9</td>\n      <td>1.00</td>\n      <td>1.0</td>\n      <td>NaN</td>\n      <td>NaN</td>\n      <td>NaN</td>\n      <td>NaN</td>\n      <td>NaN</td>\n      <td>NaN</td>\n      <td>157.5</td>\n    </tr>\n    <tr>\n      <th>5997</th>\n      <td>149623</td>\n      <td>12</td>\n      <td>9</td>\n      <td>0</td>\n      <td>72.0</td>\n      <td>1</td>\n      <td>0</td>\n      <td>0</td>\n      <td>0.0</td>\n      <td>62.0</td>\n      <td>...</td>\n      <td>NaN</td>\n      <td>0.35</td>\n      <td>0.5</td>\n      <td>1200.0</td>\n      <td>188.0</td>\n      <td>10.0</td>\n      <td>0.0</td>\n      <td>1.4</td>\n      <td>1.4</td>\n      <td>NaN</td>\n    </tr>\n    <tr>\n      <th>5998</th>\n      <td>145366</td>\n      <td>18</td>\n      <td>11</td>\n      <td>1</td>\n      <td>52.0</td>\n      <td>0</td>\n      <td>0</td>\n      <td>0</td>\n      <td>1.0</td>\n      <td>16.0</td>\n      <td>...</td>\n      <td>95.9</td>\n      <td>0.50</td>\n      <td>1.0</td>\n      <td>2760.0</td>\n      <td>100.0</td>\n      <td>27.0</td>\n      <td>1.0</td>\n      <td>9.9</td>\n      <td>8.2</td>\n      <td>182.9</td>\n    </tr>\n    <tr>\n      <th>5999</th>\n      <td>146804</td>\n      <td>19</td>\n      <td>9</td>\n      <td>0</td>\n      <td>55.0</td>\n      <td>0</td>\n      <td>1</td>\n      <td>0</td>\n      <td>1.0</td>\n      <td>14.0</td>\n      <td>...</td>\n      <td>98.1</td>\n      <td>0.50</td>\n      <td>1.0</td>\n      <td>960.0</td>\n      <td>332.0</td>\n      <td>7.0</td>\n      <td>0.0</td>\n      <td>NaN</td>\n      <td>NaN</td>\n      <td>177.8</td>\n    </tr>\n  </tbody>\n</table>\n<p>6000 rows × 95 columns</p>\n</div>"
     },
     "execution_count": 31,
     "metadata": {},
     "output_type": "execute_result"
    }
   ],
   "source": [
    "df_col_keep = missing_value_df[missing_value_df['percent_missing']<50]\n",
    "df_col = df_col_keep['column_name']\n",
    "\n",
    "df=df[df_col]\n",
    "df"
   ],
   "metadata": {
    "collapsed": false,
    "pycharm": {
     "name": "#%%\n"
    }
   }
  },
  {
   "cell_type": "code",
   "execution_count": 32,
   "outputs": [
    {
     "name": "stdout",
     "output_type": "stream",
     "text": [
      "0    5162\n",
      "1     838\n",
      "Name: In-hospital_death, dtype: int64\n"
     ]
    }
   ],
   "source": [
    "print(df['In-hospital_death'].value_counts())"
   ],
   "metadata": {
    "collapsed": false,
    "pycharm": {
     "name": "#%%\n"
    }
   }
  },
  {
   "cell_type": "code",
   "execution_count": 33,
   "outputs": [
    {
     "name": "stdout",
     "output_type": "stream",
     "text": [
      "[dtype('int64') dtype('float64')]\n"
     ]
    }
   ],
   "source": [
    "print(np.unique(df.dtypes))\n",
    "\n",
    "int_var = list(df.columns[df.dtypes == np.int64])\n",
    "float_var = list(df.columns[df.dtypes == np.float64])\n",
    "\n",
    "cat_var = []\n",
    "num_var = []\n",
    "for cat in list(df.columns):\n",
    "    if len(df[cat].unique()) <=3: #conta anche i Nan come valori\n",
    "        cat_var.append(cat)\n",
    "    else:\n",
    "        num_var.append(cat)\n",
    "\n",
    "categorical_df = df[cat_var]\n",
    "numerical_df = df[num_var]"
   ],
   "metadata": {
    "collapsed": false,
    "pycharm": {
     "name": "#%%\n"
    }
   }
  },
  {
   "cell_type": "code",
   "execution_count": 34,
   "outputs": [
    {
     "name": "stdout",
     "output_type": "stream",
     "text": [
      "recordid \n",
      " NormaltestResult(statistic=842.8952779362795, pvalue=9.281453324358711e-184) \n",
      "\n",
      "SAPS-I \n",
      " NormaltestResult(statistic=178.46362453579428, pvalue=1.7665109011997907e-39) \n",
      "\n",
      "SOFA \n",
      " NormaltestResult(statistic=145.41575069788357, pvalue=2.650763275105637e-32) \n",
      "\n",
      "Age \n",
      " NormaltestResult(statistic=359.68535645125036, pvalue=7.858094294744039e-79) \n",
      "\n",
      "BUN_first \n",
      " NormaltestResult(statistic=3229.820965379643, pvalue=0.0) \n",
      "\n",
      "Creatinine_last \n",
      " NormaltestResult(statistic=4722.975745445371, pvalue=0.0) \n",
      "\n",
      "BUN_last \n",
      " NormaltestResult(statistic=2725.806709376353, pvalue=0.0) \n",
      "\n",
      "Creatinine_first \n",
      " NormaltestResult(statistic=5735.2033386169605, pvalue=0.0) \n",
      "\n",
      "HCT_first \n",
      " NormaltestResult(statistic=44.06438668636649, pvalue=2.701095919471259e-10) \n",
      "\n",
      "HCT_last \n",
      " NormaltestResult(statistic=375.8779347073141, pvalue=2.3941069297250362e-82) \n",
      "\n",
      "HR_first \n",
      " NormaltestResult(statistic=296.5261930061873, pvalue=4.075259972210311e-65) \n",
      "\n",
      "HR_median \n",
      " NormaltestResult(statistic=65.8838788512379, pvalue=4.937390581593365e-15) \n",
      "\n",
      "HR_highest \n",
      " NormaltestResult(statistic=466.340750540311, pvalue=5.43741745297317e-102) \n",
      "\n",
      "HR_lowest \n",
      " NormaltestResult(statistic=50.39063024228096, pvalue=1.1423881067535228e-11) \n",
      "\n",
      "HR_last \n",
      " NormaltestResult(statistic=287.39128255812864, pvalue=3.9244239634542613e-63) \n",
      "\n",
      "Temp_median \n",
      " NormaltestResult(statistic=112.54494272790802, pvalue=3.640627150485427e-25) \n",
      "\n",
      "Temp_highest \n",
      " NormaltestResult(statistic=358.5854670627672, pvalue=1.3619312403820618e-78) \n",
      "\n",
      "GCS_highest \n",
      " NormaltestResult(statistic=1884.9478650222618, pvalue=0.0) \n",
      "\n",
      "Temp_lowest \n",
      " NormaltestResult(statistic=2224.9235620866284, pvalue=0.0) \n",
      "\n",
      "GCS_lowest \n",
      " NormaltestResult(statistic=31006.958144596, pvalue=0.0) \n",
      "\n",
      "Temp_last \n",
      " NormaltestResult(statistic=117.35041720710552, pvalue=3.29367451135906e-26) \n",
      "\n",
      "GCS_median \n",
      " NormaltestResult(statistic=653.7684823196802, pvalue=1.0863701977321717e-142) \n",
      "\n",
      "Temp_first \n",
      " NormaltestResult(statistic=237.17787370242903, pvalue=3.1439751936514694e-52) \n",
      "\n",
      "GCS_first \n",
      " NormaltestResult(statistic=36125.28282561526, pvalue=0.0) \n",
      "\n",
      "GCS_last \n",
      " NormaltestResult(statistic=928.2581633422802, pvalue=2.6996094479956317e-202) \n",
      "\n",
      "Platelets_last \n",
      " NormaltestResult(statistic=2130.727732813666, pvalue=0.0) \n",
      "\n",
      "Platelets_first \n",
      " NormaltestResult(statistic=1997.9682428657854, pvalue=0.0) \n",
      "\n",
      "HCO3_first \n",
      " NormaltestResult(statistic=360.9959829410469, pvalue=4.080546297937946e-79) \n",
      "\n",
      "HCO3_last \n",
      " NormaltestResult(statistic=317.88978262012245, pvalue=9.356443024573844e-70) \n",
      "\n",
      "Na_first \n",
      " NormaltestResult(statistic=801.5520402344063, pvalue=8.814262575924323e-175) \n",
      "\n",
      "Na_last \n",
      " NormaltestResult(statistic=200.41230706475795, pvalue=3.0270560887696285e-44) \n",
      "\n",
      "K_first \n",
      " NormaltestResult(statistic=3919.0523079379195, pvalue=0.0) \n",
      "\n",
      "K_last \n",
      " NormaltestResult(statistic=551.183291350887, pvalue=2.051488205841158e-120) \n",
      "\n",
      "WBC_first \n",
      " NormaltestResult(statistic=7694.945693228238, pvalue=0.0) \n",
      "\n",
      "WBC_last \n",
      " NormaltestResult(statistic=6347.14777306991, pvalue=0.0) \n",
      "\n",
      "Mg_last \n",
      " NormaltestResult(statistic=1163.2734355437924, pvalue=2.5025513603108224e-253) \n",
      "\n",
      "Mg_first \n",
      " NormaltestResult(statistic=3677.9850615668693, pvalue=0.0) \n",
      "\n",
      "Glucose_lowest \n",
      " NormaltestResult(statistic=1016.5782229200997, pvalue=1.7899614649038293e-221) \n",
      "\n",
      "Glucose_last \n",
      " NormaltestResult(statistic=3035.9634293168597, pvalue=0.0) \n",
      "\n",
      "Glucose_median \n",
      " NormaltestResult(statistic=2275.055247974339, pvalue=0.0) \n",
      "\n",
      "Glucose_first \n",
      " NormaltestResult(statistic=5296.431575142095, pvalue=0.0) \n",
      "\n",
      "Glucose_highest \n",
      " NormaltestResult(statistic=5260.140435210836, pvalue=0.0) \n",
      "\n",
      "Weight \n",
      " NormaltestResult(statistic=2033.456414309274, pvalue=0.0) \n",
      "\n",
      "NISysABP_median \n",
      " NormaltestResult(statistic=326.5474651846614, pvalue=1.2334424625872986e-71) \n",
      "\n",
      "NISysABP_highest \n",
      " NormaltestResult(statistic=250.659532721952, pvalue=3.715130307867328e-55) \n",
      "\n",
      "NISysABP_first \n",
      " NormaltestResult(statistic=226.06101948769145, pvalue=8.155927029771724e-50) \n",
      "\n",
      "NISysABP_last \n",
      " NormaltestResult(statistic=233.39146798779382, pvalue=2.087789287123493e-51) \n",
      "\n",
      "NISysABP_lowest \n",
      " NormaltestResult(statistic=493.1236478195935, pvalue=8.30922325650129e-108) \n",
      "\n",
      "NIDiasABP_lowest \n",
      " NormaltestResult(statistic=456.6258267032009, pvalue=6.997800936733961e-100) \n",
      "\n",
      "NIMAP_lowest \n",
      " NormaltestResult(statistic=554.1933114807125, pvalue=4.554612755879555e-121) \n",
      "\n",
      "NIMAP_median \n",
      " NormaltestResult(statistic=400.57881888896134, pvalue=1.036131064531712e-87) \n",
      "\n",
      "NIDiasABP_median \n",
      " NormaltestResult(statistic=363.60265726475757, pvalue=1.1083735983862036e-79) \n",
      "\n",
      "NIMAP_first \n",
      " NormaltestResult(statistic=238.96789816190676, pvalue=1.2846364432000021e-52) \n",
      "\n",
      "NIMAP_last \n",
      " NormaltestResult(statistic=500.3028470173526, pvalue=2.2941252763920424e-109) \n",
      "\n",
      "NIDiasABP_first \n",
      " NormaltestResult(statistic=399.9255633238284, pvalue=1.4363733481296615e-87) \n",
      "\n",
      "NIMAP_highest \n",
      " NormaltestResult(statistic=461.07884319122377, pvalue=7.550945572327097e-101) \n",
      "\n",
      "NIDiasABP_highest \n",
      " NormaltestResult(statistic=406.4087099702771, pvalue=5.61655390311247e-89) \n",
      "\n",
      "NIDiasABP_last \n",
      " NormaltestResult(statistic=564.2436437896049, pvalue=2.9926058915313917e-123) \n",
      "\n",
      "pH_last \n",
      " NormaltestResult(statistic=592.2569335352633, pvalue=2.4719572075901567e-129) \n",
      "\n",
      "pH_first \n",
      " NormaltestResult(statistic=590.1213082889625, pvalue=7.190946841665967e-129) \n",
      "\n",
      "PaCO2_first \n",
      " NormaltestResult(statistic=1324.3567398408802, pvalue=2.6277733742653105e-288) \n",
      "\n",
      "PaCO2_last \n",
      " NormaltestResult(statistic=1398.9263825632786, pvalue=1.6865364507707866e-304) \n",
      "\n",
      "PaO2_last \n",
      " NormaltestResult(statistic=2606.0113547435103, pvalue=0.0) \n",
      "\n",
      "PaO2_first \n",
      " NormaltestResult(statistic=722.0152995486434, pvalue=1.645772412597637e-157) \n",
      "\n",
      "MAP_first \n",
      " NormaltestResult(statistic=2483.9495509524554, pvalue=0.0) \n",
      "\n",
      "MAP_lowest \n",
      " NormaltestResult(statistic=2242.4251201066836, pvalue=0.0) \n",
      "\n",
      "MAP_highest \n",
      " NormaltestResult(statistic=1940.4972201276457, pvalue=0.0) \n",
      "\n",
      "MAP_last \n",
      " NormaltestResult(statistic=2677.671702297344, pvalue=0.0) \n",
      "\n",
      "MAP_median \n",
      " NormaltestResult(statistic=3323.780609294391, pvalue=0.0) \n",
      "\n",
      "SysABP_median \n",
      " NormaltestResult(statistic=260.5226697715747, pvalue=2.680532355405817e-57) \n",
      "\n",
      "SysABP_last \n",
      " NormaltestResult(statistic=162.24009361453716, pvalue=5.8885897662595145e-36) \n",
      "\n",
      "SysABP_first \n",
      " NormaltestResult(statistic=301.35824673410826, pvalue=3.6382135221481935e-66) \n",
      "\n",
      "SysABP_highest \n",
      " NormaltestResult(statistic=389.04107170916507, pvalue=3.317452104560266e-85) \n",
      "\n",
      "SysABP_lowest \n",
      " NormaltestResult(statistic=319.0461692078054, pvalue=5.248130435616008e-70) \n",
      "\n",
      "DiasABP_last \n",
      " NormaltestResult(statistic=797.997940216408, pvalue=5.211335061567627e-174) \n",
      "\n",
      "DiasABP_lowest \n",
      " NormaltestResult(statistic=324.63087222574825, pvalue=3.2158943187870773e-71) \n",
      "\n",
      "DiasABP_first \n",
      " NormaltestResult(statistic=243.7283291767988, pvalue=1.1886822496089568e-53) \n",
      "\n",
      "DiasABP_highest \n",
      " NormaltestResult(statistic=1237.2099988455648, pvalue=2.204257224729821e-269) \n",
      "\n",
      "DiasABP_median \n",
      " NormaltestResult(statistic=290.8543933808881, pvalue=6.946578673504312e-64) \n",
      "\n",
      "Weight_last \n",
      " NormaltestResult(statistic=1455.000542529976, pvalue=0.0) \n",
      "\n",
      "Weight_first \n",
      " NormaltestResult(statistic=1528.0243381848263, pvalue=0.0) \n",
      "\n",
      "FiO2_last \n",
      " NormaltestResult(statistic=1339.8368961165393, pvalue=1.143180171784215e-291) \n",
      "\n",
      "FiO2_first \n",
      " NormaltestResult(statistic=20963.26590848049, pvalue=0.0) \n",
      "\n",
      "MechVentDuration \n",
      " NormaltestResult(statistic=1143.2245775391389, pvalue=5.648552885814625e-249) \n",
      "\n",
      "MechVentStartTime \n",
      " NormaltestResult(statistic=2413.4915952880306, pvalue=0.0) \n",
      "\n",
      "UrineOutputSum \n",
      " NormaltestResult(statistic=45.51686259276556, pvalue=1.3065886197375528e-10) \n",
      "\n",
      "Lactate_first \n",
      " NormaltestResult(statistic=2069.1960995059785, pvalue=0.0) \n",
      "\n",
      "Lactate_last \n",
      " NormaltestResult(statistic=3334.1792186717003, pvalue=0.0) \n",
      "\n",
      "Height \n",
      " NormaltestResult(statistic=9799.965419713664, pvalue=0.0) \n",
      "\n"
     ]
    }
   ],
   "source": [
    "#Normality test\n",
    "#Hp0: normal distribution (p-value<0.05 => reject it)\n",
    "import scipy.stats as sci\n",
    "for x in list(numerical_df.columns):\n",
    "    y=sci.normaltest(numerical_df[x], nan_policy='omit')\n",
    "    print(x, '\\n', y, '\\n')"
   ],
   "metadata": {
    "collapsed": false,
    "pycharm": {
     "name": "#%%\n"
    }
   }
  },
  {
   "cell_type": "code",
   "execution_count": 35,
   "outputs": [
    {
     "name": "stdout",
     "output_type": "stream",
     "text": [
      "BUN\n",
      " MannwhitneyuResult(statistic=17614605.0, pvalue=0.29981721794226535)\n",
      "\n",
      "\n",
      "Creatinine\n",
      " MannwhitneyuResult(statistic=17557180.0, pvalue=0.4663447229665394)\n",
      "\n",
      "\n",
      "HCT\n",
      " MannwhitneyuResult(statistic=19566419.0, pvalue=3.558726270824122e-31)\n",
      "\n",
      "\n",
      "HR\n",
      " MannwhitneyuResult(statistic=19187529.5, pvalue=2.0600174229886776e-22)\n",
      "\n",
      "\n",
      "Temp\n",
      " MannwhitneyuResult(statistic=12305599.0, pvalue=2.892439692928371e-166)\n",
      "\n",
      "\n",
      "GCS\n",
      " MannwhitneyuResult(statistic=12970276.0, pvalue=4.004574406370745e-140)\n",
      "\n",
      "\n",
      "Platelets\n",
      " MannwhitneyuResult(statistic=19870854.0, pvalue=1.479965468395165e-41)\n",
      "\n",
      "\n",
      "HCO3\n",
      " MannwhitneyuResult(statistic=14709169.0, pvalue=4.7381289527075e-46)\n",
      "\n",
      "\n",
      "Na\n",
      " MannwhitneyuResult(statistic=17335528.5, pvalue=0.9434850748661205)\n",
      "\n",
      "\n",
      "K\n",
      " MannwhitneyuResult(statistic=18566664.0, pvalue=4.796755746113763e-14)\n",
      "\n",
      "\n",
      "WBC\n",
      " MannwhitneyuResult(statistic=17789766.5, pvalue=0.0008012400962805928)\n",
      "\n",
      "\n",
      "Mg\n",
      " MannwhitneyuResult(statistic=13532952.0, pvalue=4.08955520274117e-86)\n",
      "\n",
      "\n",
      "Glucose\n",
      " MannwhitneyuResult(statistic=19876694.5, pvalue=1.883051148172236e-53)\n",
      "\n",
      "\n",
      "NISysABP\n",
      " MannwhitneyuResult(statistic=14275745.0, pvalue=0.0005352402330792935)\n",
      "\n",
      "\n",
      "NIMAP\n",
      " MannwhitneyuResult(statistic=14760132.5, pvalue=1.6795958166420347e-11)\n",
      "\n",
      "\n",
      "NIDiasABP\n",
      " MannwhitneyuResult(statistic=14962498.5, pvalue=8.955321261570306e-16)\n",
      "\n",
      "\n",
      "pH\n",
      " MannwhitneyuResult(statistic=8245264.5, pvalue=2.5538291597120635e-57)\n",
      "\n",
      "\n",
      "PaO2\n",
      " MannwhitneyuResult(statistic=13998235.0, pvalue=4.358870962708746e-218)\n",
      "\n",
      "\n",
      "PaCO2\n",
      " MannwhitneyuResult(statistic=10708423.5, pvalue=1.7878334446974753e-06)\n",
      "\n",
      "\n",
      "MAP\n",
      " MannwhitneyuResult(statistic=8896929.5, pvalue=0.005540051838291592)\n",
      "\n",
      "\n",
      "SysABP\n",
      " MannwhitneyuResult(statistic=8575675.0, pvalue=0.6354116535964216)\n",
      "\n",
      "\n",
      "DiasABP\n",
      " MannwhitneyuResult(statistic=9006816.5, pvalue=6.947466315455453e-06)\n",
      "\n",
      "\n",
      "Weight\n",
      " MannwhitneyuResult(statistic=8042033.0, pvalue=0.1401790438698725)\n",
      "\n",
      "\n",
      "FiO2\n",
      " MannwhitneyuResult(statistic=12912728.0, pvalue=0.0)\n",
      "\n",
      "\n",
      "Lactate\n",
      " MannwhitneyuResult(statistic=6451329.5, pvalue=2.2607849065244323e-52)\n"
     ]
    }
   ],
   "source": [
    "#For non normal (all in this case) -> Wilcoxon-Mann-Whitney test\n",
    "#Hp0: are they the same?\n",
    "\n",
    "print('BUN\\n', sci.mannwhitneyu(numerical_df['BUN_first'], numerical_df['BUN_last'], nan_policy='omit'))\n",
    "#same\n",
    "print('\\n\\nCreatinine\\n', sci.mannwhitneyu(numerical_df['Creatinine_first'], numerical_df['Creatinine_last'], nan_policy='omit'))\n",
    "#same\n",
    "print('\\n\\nHCT\\n', sci.mannwhitneyu(numerical_df['HCT_first'], numerical_df['HCT_last'], nan_policy='omit'))\n",
    "#different\n",
    "print('\\n\\nHR\\n', sci.mannwhitneyu(numerical_df['HR_first'], numerical_df['HR_last'], nan_policy='omit'))\n",
    "#different\n",
    "print('\\n\\nTemp\\n', sci.mannwhitneyu(numerical_df['Temp_first'], numerical_df['Temp_last'], nan_policy='omit'))\n",
    "#different\n",
    "print('\\n\\nGCS\\n', sci.mannwhitneyu(numerical_df['GCS_first'], numerical_df['GCS_last'], nan_policy='omit'))\n",
    "#different\n",
    "print('\\n\\nPlatelets\\n', sci.mannwhitneyu(numerical_df['Platelets_first'], numerical_df['Platelets_last'], nan_policy='omit'))\n",
    "#different\n",
    "print('\\n\\nHCO3\\n', sci.mannwhitneyu(numerical_df['HCO3_first'], numerical_df['HCO3_last'], nan_policy='omit'))\n",
    "#different\n",
    "print('\\n\\nNa\\n', sci.mannwhitneyu(numerical_df['Na_first'], numerical_df['Na_last'], nan_policy='omit'))\n",
    "#same\n",
    "print('\\n\\nK\\n', sci.mannwhitneyu(numerical_df['K_first'], numerical_df['K_last'], nan_policy='omit'))\n",
    "#different\n",
    "print('\\n\\nWBC\\n', sci.mannwhitneyu(numerical_df['WBC_first'], numerical_df['WBC_last'], nan_policy='omit'))\n",
    "#different\n",
    "print('\\n\\nMg\\n', sci.mannwhitneyu(numerical_df['Mg_first'], numerical_df['Mg_last'], nan_policy='omit'))\n",
    "#different\n",
    "print('\\n\\nGlucose\\n', sci.mannwhitneyu(numerical_df['Glucose_first'], numerical_df['Glucose_last'], nan_policy='omit'))\n",
    "#different\n",
    "print('\\n\\nNISysABP\\n', sci.mannwhitneyu(numerical_df['NISysABP_first'], numerical_df['NISysABP_last'], nan_policy='omit'))\n",
    "#different\n",
    "print('\\n\\nNIMAP\\n', sci.mannwhitneyu(numerical_df['NIMAP_first'], numerical_df['NIMAP_last'], nan_policy='omit'))\n",
    "#different\n",
    "print('\\n\\nNIDiasABP\\n', sci.mannwhitneyu(numerical_df['NIDiasABP_first'], numerical_df['NIDiasABP_last'], nan_policy='omit'))\n",
    "#different\n",
    "print('\\n\\npH\\n', sci.mannwhitneyu(numerical_df['pH_first'], numerical_df['pH_last'], nan_policy='omit'))\n",
    "#different\n",
    "print('\\n\\nPaO2\\n', sci.mannwhitneyu(numerical_df['PaO2_first'], numerical_df['PaO2_last'], nan_policy='omit'))\n",
    "#different\n",
    "print('\\n\\nPaCO2\\n', sci.mannwhitneyu(numerical_df['PaCO2_first'], numerical_df['PaCO2_last'], nan_policy='omit'))\n",
    "#different\n",
    "print('\\n\\nMAP\\n', sci.mannwhitneyu(numerical_df['MAP_first'], numerical_df['MAP_last'], nan_policy='omit'))\n",
    "#different\n",
    "print('\\n\\nSysABP\\n', sci.mannwhitneyu(numerical_df['SysABP_first'], numerical_df['SysABP_last'], nan_policy='omit'))\n",
    "#different\n",
    "print('\\n\\nDiasABP\\n', sci.mannwhitneyu(numerical_df['DiasABP_first'], numerical_df['DiasABP_last'], nan_policy='omit'))\n",
    "#different\n",
    "print('\\n\\nWeight\\n', sci.mannwhitneyu(numerical_df['Weight_first'], numerical_df['Weight_last'], nan_policy='omit'))\n",
    "#same\n",
    "print('\\n\\nFiO2\\n', sci.mannwhitneyu(numerical_df['FiO2_first'], numerical_df['FiO2_last'], nan_policy='omit'))\n",
    "#different\n",
    "print('\\n\\nLactate\\n', sci.mannwhitneyu(numerical_df['Lactate_first'], numerical_df['Lactate_last'], nan_policy='omit'))\n",
    "#different"
   ],
   "metadata": {
    "collapsed": false,
    "pycharm": {
     "name": "#%%\n"
    }
   }
  },
  {
   "cell_type": "code",
   "execution_count": 36,
   "outputs": [
    {
     "data": {
      "text/plain": "      recordid  SAPS-I  SOFA  In-hospital_death   Age  CCU  CSRU  SICU  \\\n0       132539       6     1                  0  54.0    0     0     1   \n1       132540      16     8                  0  76.0    0     1     0   \n2       132541      21    11                  0  44.0    0     0     0   \n3       132543       7     1                  0  68.0    0     0     0   \n4       132545      17     2                  0  88.0    0     0     0   \n...        ...     ...   ...                ...   ...  ...   ...   ...   \n5995    151939      19     6                  1  52.0    0     0     1   \n5996    151383      13     2                  0  90.0    1     0     0   \n5997    149623      12     9                  0  72.0    1     0     0   \n5998    145366      18    11                  1  52.0    0     0     0   \n5999    146804      19     9                  0  55.0    0     1     0   \n\n      Gender  BUN_first  ...  Weight_first  FiO2_last  FiO2_first  \\\n0        0.0       13.0  ...           NaN        NaN         NaN   \n1        1.0       16.0  ...          80.6       0.40         1.0   \n2        0.0        8.0  ...          56.7       0.40         1.0   \n3        1.0       23.0  ...          84.6        NaN         NaN   \n4        0.0       45.0  ...           NaN        NaN         NaN   \n...      ...        ...  ...           ...        ...         ...   \n5995     1.0       11.0  ...           NaN       0.40         0.6   \n5996     0.0       20.0  ...          72.9       1.00         1.0   \n5997     0.0       62.0  ...           NaN       0.35         0.5   \n5998     1.0       16.0  ...          95.9       0.50         1.0   \n5999     1.0       14.0  ...          98.1       0.50         1.0   \n\n      MechVentDuration  MechVentStartTime  UrineOutputSum  MechVentLast8Hour  \\\n0                  NaN                NaN             NaN                NaN   \n1                360.0               71.0             5.0                0.0   \n2               2160.0              617.0            14.0                1.0   \n3                  NaN                NaN             NaN                NaN   \n4                  NaN                NaN             NaN                NaN   \n...                ...                ...             ...                ...   \n5995            2440.0              238.0            17.0                1.0   \n5996               NaN                NaN             NaN                NaN   \n5997            1200.0              188.0            10.0                0.0   \n5998            2760.0              100.0            27.0                1.0   \n5999             960.0              332.0             7.0                0.0   \n\n      Lactate_first  Lactate_last  Height  \n0               NaN           NaN     NaN  \n1               NaN           NaN   175.3  \n2               1.3           0.9     NaN  \n3               NaN           NaN   180.3  \n4               NaN           NaN     NaN  \n...             ...           ...     ...  \n5995            NaN           NaN     NaN  \n5996            NaN           NaN   157.5  \n5997            1.4           1.4     NaN  \n5998            9.9           8.2   182.9  \n5999            NaN           NaN   177.8  \n\n[6000 rows x 95 columns]",
      "text/html": "<div>\n<style scoped>\n    .dataframe tbody tr th:only-of-type {\n        vertical-align: middle;\n    }\n\n    .dataframe tbody tr th {\n        vertical-align: top;\n    }\n\n    .dataframe thead th {\n        text-align: right;\n    }\n</style>\n<table border=\"1\" class=\"dataframe\">\n  <thead>\n    <tr style=\"text-align: right;\">\n      <th></th>\n      <th>recordid</th>\n      <th>SAPS-I</th>\n      <th>SOFA</th>\n      <th>In-hospital_death</th>\n      <th>Age</th>\n      <th>CCU</th>\n      <th>CSRU</th>\n      <th>SICU</th>\n      <th>Gender</th>\n      <th>BUN_first</th>\n      <th>...</th>\n      <th>Weight_first</th>\n      <th>FiO2_last</th>\n      <th>FiO2_first</th>\n      <th>MechVentDuration</th>\n      <th>MechVentStartTime</th>\n      <th>UrineOutputSum</th>\n      <th>MechVentLast8Hour</th>\n      <th>Lactate_first</th>\n      <th>Lactate_last</th>\n      <th>Height</th>\n    </tr>\n  </thead>\n  <tbody>\n    <tr>\n      <th>0</th>\n      <td>132539</td>\n      <td>6</td>\n      <td>1</td>\n      <td>0</td>\n      <td>54.0</td>\n      <td>0</td>\n      <td>0</td>\n      <td>1</td>\n      <td>0.0</td>\n      <td>13.0</td>\n      <td>...</td>\n      <td>NaN</td>\n      <td>NaN</td>\n      <td>NaN</td>\n      <td>NaN</td>\n      <td>NaN</td>\n      <td>NaN</td>\n      <td>NaN</td>\n      <td>NaN</td>\n      <td>NaN</td>\n      <td>NaN</td>\n    </tr>\n    <tr>\n      <th>1</th>\n      <td>132540</td>\n      <td>16</td>\n      <td>8</td>\n      <td>0</td>\n      <td>76.0</td>\n      <td>0</td>\n      <td>1</td>\n      <td>0</td>\n      <td>1.0</td>\n      <td>16.0</td>\n      <td>...</td>\n      <td>80.6</td>\n      <td>0.40</td>\n      <td>1.0</td>\n      <td>360.0</td>\n      <td>71.0</td>\n      <td>5.0</td>\n      <td>0.0</td>\n      <td>NaN</td>\n      <td>NaN</td>\n      <td>175.3</td>\n    </tr>\n    <tr>\n      <th>2</th>\n      <td>132541</td>\n      <td>21</td>\n      <td>11</td>\n      <td>0</td>\n      <td>44.0</td>\n      <td>0</td>\n      <td>0</td>\n      <td>0</td>\n      <td>0.0</td>\n      <td>8.0</td>\n      <td>...</td>\n      <td>56.7</td>\n      <td>0.40</td>\n      <td>1.0</td>\n      <td>2160.0</td>\n      <td>617.0</td>\n      <td>14.0</td>\n      <td>1.0</td>\n      <td>1.3</td>\n      <td>0.9</td>\n      <td>NaN</td>\n    </tr>\n    <tr>\n      <th>3</th>\n      <td>132543</td>\n      <td>7</td>\n      <td>1</td>\n      <td>0</td>\n      <td>68.0</td>\n      <td>0</td>\n      <td>0</td>\n      <td>0</td>\n      <td>1.0</td>\n      <td>23.0</td>\n      <td>...</td>\n      <td>84.6</td>\n      <td>NaN</td>\n      <td>NaN</td>\n      <td>NaN</td>\n      <td>NaN</td>\n      <td>NaN</td>\n      <td>NaN</td>\n      <td>NaN</td>\n      <td>NaN</td>\n      <td>180.3</td>\n    </tr>\n    <tr>\n      <th>4</th>\n      <td>132545</td>\n      <td>17</td>\n      <td>2</td>\n      <td>0</td>\n      <td>88.0</td>\n      <td>0</td>\n      <td>0</td>\n      <td>0</td>\n      <td>0.0</td>\n      <td>45.0</td>\n      <td>...</td>\n      <td>NaN</td>\n      <td>NaN</td>\n      <td>NaN</td>\n      <td>NaN</td>\n      <td>NaN</td>\n      <td>NaN</td>\n      <td>NaN</td>\n      <td>NaN</td>\n      <td>NaN</td>\n      <td>NaN</td>\n    </tr>\n    <tr>\n      <th>...</th>\n      <td>...</td>\n      <td>...</td>\n      <td>...</td>\n      <td>...</td>\n      <td>...</td>\n      <td>...</td>\n      <td>...</td>\n      <td>...</td>\n      <td>...</td>\n      <td>...</td>\n      <td>...</td>\n      <td>...</td>\n      <td>...</td>\n      <td>...</td>\n      <td>...</td>\n      <td>...</td>\n      <td>...</td>\n      <td>...</td>\n      <td>...</td>\n      <td>...</td>\n      <td>...</td>\n    </tr>\n    <tr>\n      <th>5995</th>\n      <td>151939</td>\n      <td>19</td>\n      <td>6</td>\n      <td>1</td>\n      <td>52.0</td>\n      <td>0</td>\n      <td>0</td>\n      <td>1</td>\n      <td>1.0</td>\n      <td>11.0</td>\n      <td>...</td>\n      <td>NaN</td>\n      <td>0.40</td>\n      <td>0.6</td>\n      <td>2440.0</td>\n      <td>238.0</td>\n      <td>17.0</td>\n      <td>1.0</td>\n      <td>NaN</td>\n      <td>NaN</td>\n      <td>NaN</td>\n    </tr>\n    <tr>\n      <th>5996</th>\n      <td>151383</td>\n      <td>13</td>\n      <td>2</td>\n      <td>0</td>\n      <td>90.0</td>\n      <td>1</td>\n      <td>0</td>\n      <td>0</td>\n      <td>0.0</td>\n      <td>20.0</td>\n      <td>...</td>\n      <td>72.9</td>\n      <td>1.00</td>\n      <td>1.0</td>\n      <td>NaN</td>\n      <td>NaN</td>\n      <td>NaN</td>\n      <td>NaN</td>\n      <td>NaN</td>\n      <td>NaN</td>\n      <td>157.5</td>\n    </tr>\n    <tr>\n      <th>5997</th>\n      <td>149623</td>\n      <td>12</td>\n      <td>9</td>\n      <td>0</td>\n      <td>72.0</td>\n      <td>1</td>\n      <td>0</td>\n      <td>0</td>\n      <td>0.0</td>\n      <td>62.0</td>\n      <td>...</td>\n      <td>NaN</td>\n      <td>0.35</td>\n      <td>0.5</td>\n      <td>1200.0</td>\n      <td>188.0</td>\n      <td>10.0</td>\n      <td>0.0</td>\n      <td>1.4</td>\n      <td>1.4</td>\n      <td>NaN</td>\n    </tr>\n    <tr>\n      <th>5998</th>\n      <td>145366</td>\n      <td>18</td>\n      <td>11</td>\n      <td>1</td>\n      <td>52.0</td>\n      <td>0</td>\n      <td>0</td>\n      <td>0</td>\n      <td>1.0</td>\n      <td>16.0</td>\n      <td>...</td>\n      <td>95.9</td>\n      <td>0.50</td>\n      <td>1.0</td>\n      <td>2760.0</td>\n      <td>100.0</td>\n      <td>27.0</td>\n      <td>1.0</td>\n      <td>9.9</td>\n      <td>8.2</td>\n      <td>182.9</td>\n    </tr>\n    <tr>\n      <th>5999</th>\n      <td>146804</td>\n      <td>19</td>\n      <td>9</td>\n      <td>0</td>\n      <td>55.0</td>\n      <td>0</td>\n      <td>1</td>\n      <td>0</td>\n      <td>1.0</td>\n      <td>14.0</td>\n      <td>...</td>\n      <td>98.1</td>\n      <td>0.50</td>\n      <td>1.0</td>\n      <td>960.0</td>\n      <td>332.0</td>\n      <td>7.0</td>\n      <td>0.0</td>\n      <td>NaN</td>\n      <td>NaN</td>\n      <td>177.8</td>\n    </tr>\n  </tbody>\n</table>\n<p>6000 rows × 95 columns</p>\n</div>"
     },
     "execution_count": 36,
     "metadata": {},
     "output_type": "execute_result"
    }
   ],
   "source": [
    "df"
   ],
   "metadata": {
    "collapsed": false,
    "pycharm": {
     "name": "#%%\n"
    }
   }
  },
  {
   "cell_type": "code",
   "execution_count": 46,
   "outputs": [
    {
     "data": {
      "text/plain": "      recordid  SAPS-I  SOFA  In-hospital_death   Age  CCU  CSRU  SICU  \\\n0       132539       6     1                  0  54.0    0     0     1   \n1       132540      16     8                  0  76.0    0     1     0   \n2       132541      21    11                  0  44.0    0     0     0   \n3       132543       7     1                  0  68.0    0     0     0   \n4       132545      17     2                  0  88.0    0     0     0   \n...        ...     ...   ...                ...   ...  ...   ...   ...   \n5995    151939      19     6                  1  52.0    0     0     1   \n5996    151383      13     2                  0  90.0    1     0     0   \n5997    149623      12     9                  0  72.0    1     0     0   \n5998    145366      18    11                  1  52.0    0     0     0   \n5999    146804      19     9                  0  55.0    0     1     0   \n\n      Gender  BUN_first  ...  Weight_first  FiO2_last  FiO2_first  \\\n0        0.0       13.0  ...           NaN        NaN         NaN   \n1        1.0       16.0  ...          80.6       0.40         1.0   \n2        0.0        8.0  ...          56.7       0.40         1.0   \n3        1.0       23.0  ...          84.6        NaN         NaN   \n4        0.0       45.0  ...           NaN        NaN         NaN   \n...      ...        ...  ...           ...        ...         ...   \n5995     1.0       11.0  ...           NaN       0.40         0.6   \n5996     0.0       20.0  ...          72.9       1.00         1.0   \n5997     0.0       62.0  ...           NaN       0.35         0.5   \n5998     1.0       16.0  ...          95.9       0.50         1.0   \n5999     1.0       14.0  ...          98.1       0.50         1.0   \n\n      MechVentDuration  MechVentStartTime  UrineOutputSum  MechVentLast8Hour  \\\n0                  NaN                NaN             NaN                NaN   \n1                360.0               71.0             5.0                0.0   \n2               2160.0              617.0            14.0                1.0   \n3                  NaN                NaN             NaN                NaN   \n4                  NaN                NaN             NaN                NaN   \n...                ...                ...             ...                ...   \n5995            2440.0              238.0            17.0                1.0   \n5996               NaN                NaN             NaN                NaN   \n5997            1200.0              188.0            10.0                0.0   \n5998            2760.0              100.0            27.0                1.0   \n5999             960.0              332.0             7.0                0.0   \n\n      Lactate_first  Lactate_last  Height  \n0               NaN           NaN     NaN  \n1               NaN           NaN   175.3  \n2               1.3           0.9     NaN  \n3               NaN           NaN   180.3  \n4               NaN           NaN     NaN  \n...             ...           ...     ...  \n5995            NaN           NaN     NaN  \n5996            NaN           NaN   157.5  \n5997            1.4           1.4     NaN  \n5998            9.9           8.2   182.9  \n5999            NaN           NaN   177.8  \n\n[6000 rows x 95 columns]",
      "text/html": "<div>\n<style scoped>\n    .dataframe tbody tr th:only-of-type {\n        vertical-align: middle;\n    }\n\n    .dataframe tbody tr th {\n        vertical-align: top;\n    }\n\n    .dataframe thead th {\n        text-align: right;\n    }\n</style>\n<table border=\"1\" class=\"dataframe\">\n  <thead>\n    <tr style=\"text-align: right;\">\n      <th></th>\n      <th>recordid</th>\n      <th>SAPS-I</th>\n      <th>SOFA</th>\n      <th>In-hospital_death</th>\n      <th>Age</th>\n      <th>CCU</th>\n      <th>CSRU</th>\n      <th>SICU</th>\n      <th>Gender</th>\n      <th>BUN_first</th>\n      <th>...</th>\n      <th>Weight_first</th>\n      <th>FiO2_last</th>\n      <th>FiO2_first</th>\n      <th>MechVentDuration</th>\n      <th>MechVentStartTime</th>\n      <th>UrineOutputSum</th>\n      <th>MechVentLast8Hour</th>\n      <th>Lactate_first</th>\n      <th>Lactate_last</th>\n      <th>Height</th>\n    </tr>\n  </thead>\n  <tbody>\n    <tr>\n      <th>0</th>\n      <td>132539</td>\n      <td>6</td>\n      <td>1</td>\n      <td>0</td>\n      <td>54.0</td>\n      <td>0</td>\n      <td>0</td>\n      <td>1</td>\n      <td>0.0</td>\n      <td>13.0</td>\n      <td>...</td>\n      <td>NaN</td>\n      <td>NaN</td>\n      <td>NaN</td>\n      <td>NaN</td>\n      <td>NaN</td>\n      <td>NaN</td>\n      <td>NaN</td>\n      <td>NaN</td>\n      <td>NaN</td>\n      <td>NaN</td>\n    </tr>\n    <tr>\n      <th>1</th>\n      <td>132540</td>\n      <td>16</td>\n      <td>8</td>\n      <td>0</td>\n      <td>76.0</td>\n      <td>0</td>\n      <td>1</td>\n      <td>0</td>\n      <td>1.0</td>\n      <td>16.0</td>\n      <td>...</td>\n      <td>80.6</td>\n      <td>0.40</td>\n      <td>1.0</td>\n      <td>360.0</td>\n      <td>71.0</td>\n      <td>5.0</td>\n      <td>0.0</td>\n      <td>NaN</td>\n      <td>NaN</td>\n      <td>175.3</td>\n    </tr>\n    <tr>\n      <th>2</th>\n      <td>132541</td>\n      <td>21</td>\n      <td>11</td>\n      <td>0</td>\n      <td>44.0</td>\n      <td>0</td>\n      <td>0</td>\n      <td>0</td>\n      <td>0.0</td>\n      <td>8.0</td>\n      <td>...</td>\n      <td>56.7</td>\n      <td>0.40</td>\n      <td>1.0</td>\n      <td>2160.0</td>\n      <td>617.0</td>\n      <td>14.0</td>\n      <td>1.0</td>\n      <td>1.3</td>\n      <td>0.9</td>\n      <td>NaN</td>\n    </tr>\n    <tr>\n      <th>3</th>\n      <td>132543</td>\n      <td>7</td>\n      <td>1</td>\n      <td>0</td>\n      <td>68.0</td>\n      <td>0</td>\n      <td>0</td>\n      <td>0</td>\n      <td>1.0</td>\n      <td>23.0</td>\n      <td>...</td>\n      <td>84.6</td>\n      <td>NaN</td>\n      <td>NaN</td>\n      <td>NaN</td>\n      <td>NaN</td>\n      <td>NaN</td>\n      <td>NaN</td>\n      <td>NaN</td>\n      <td>NaN</td>\n      <td>180.3</td>\n    </tr>\n    <tr>\n      <th>4</th>\n      <td>132545</td>\n      <td>17</td>\n      <td>2</td>\n      <td>0</td>\n      <td>88.0</td>\n      <td>0</td>\n      <td>0</td>\n      <td>0</td>\n      <td>0.0</td>\n      <td>45.0</td>\n      <td>...</td>\n      <td>NaN</td>\n      <td>NaN</td>\n      <td>NaN</td>\n      <td>NaN</td>\n      <td>NaN</td>\n      <td>NaN</td>\n      <td>NaN</td>\n      <td>NaN</td>\n      <td>NaN</td>\n      <td>NaN</td>\n    </tr>\n    <tr>\n      <th>...</th>\n      <td>...</td>\n      <td>...</td>\n      <td>...</td>\n      <td>...</td>\n      <td>...</td>\n      <td>...</td>\n      <td>...</td>\n      <td>...</td>\n      <td>...</td>\n      <td>...</td>\n      <td>...</td>\n      <td>...</td>\n      <td>...</td>\n      <td>...</td>\n      <td>...</td>\n      <td>...</td>\n      <td>...</td>\n      <td>...</td>\n      <td>...</td>\n      <td>...</td>\n      <td>...</td>\n    </tr>\n    <tr>\n      <th>5995</th>\n      <td>151939</td>\n      <td>19</td>\n      <td>6</td>\n      <td>1</td>\n      <td>52.0</td>\n      <td>0</td>\n      <td>0</td>\n      <td>1</td>\n      <td>1.0</td>\n      <td>11.0</td>\n      <td>...</td>\n      <td>NaN</td>\n      <td>0.40</td>\n      <td>0.6</td>\n      <td>2440.0</td>\n      <td>238.0</td>\n      <td>17.0</td>\n      <td>1.0</td>\n      <td>NaN</td>\n      <td>NaN</td>\n      <td>NaN</td>\n    </tr>\n    <tr>\n      <th>5996</th>\n      <td>151383</td>\n      <td>13</td>\n      <td>2</td>\n      <td>0</td>\n      <td>90.0</td>\n      <td>1</td>\n      <td>0</td>\n      <td>0</td>\n      <td>0.0</td>\n      <td>20.0</td>\n      <td>...</td>\n      <td>72.9</td>\n      <td>1.00</td>\n      <td>1.0</td>\n      <td>NaN</td>\n      <td>NaN</td>\n      <td>NaN</td>\n      <td>NaN</td>\n      <td>NaN</td>\n      <td>NaN</td>\n      <td>157.5</td>\n    </tr>\n    <tr>\n      <th>5997</th>\n      <td>149623</td>\n      <td>12</td>\n      <td>9</td>\n      <td>0</td>\n      <td>72.0</td>\n      <td>1</td>\n      <td>0</td>\n      <td>0</td>\n      <td>0.0</td>\n      <td>62.0</td>\n      <td>...</td>\n      <td>NaN</td>\n      <td>0.35</td>\n      <td>0.5</td>\n      <td>1200.0</td>\n      <td>188.0</td>\n      <td>10.0</td>\n      <td>0.0</td>\n      <td>1.4</td>\n      <td>1.4</td>\n      <td>NaN</td>\n    </tr>\n    <tr>\n      <th>5998</th>\n      <td>145366</td>\n      <td>18</td>\n      <td>11</td>\n      <td>1</td>\n      <td>52.0</td>\n      <td>0</td>\n      <td>0</td>\n      <td>0</td>\n      <td>1.0</td>\n      <td>16.0</td>\n      <td>...</td>\n      <td>95.9</td>\n      <td>0.50</td>\n      <td>1.0</td>\n      <td>2760.0</td>\n      <td>100.0</td>\n      <td>27.0</td>\n      <td>1.0</td>\n      <td>9.9</td>\n      <td>8.2</td>\n      <td>182.9</td>\n    </tr>\n    <tr>\n      <th>5999</th>\n      <td>146804</td>\n      <td>19</td>\n      <td>9</td>\n      <td>0</td>\n      <td>55.0</td>\n      <td>0</td>\n      <td>1</td>\n      <td>0</td>\n      <td>1.0</td>\n      <td>14.0</td>\n      <td>...</td>\n      <td>98.1</td>\n      <td>0.50</td>\n      <td>1.0</td>\n      <td>960.0</td>\n      <td>332.0</td>\n      <td>7.0</td>\n      <td>0.0</td>\n      <td>NaN</td>\n      <td>NaN</td>\n      <td>177.8</td>\n    </tr>\n  </tbody>\n</table>\n<p>6000 rows × 95 columns</p>\n</div>"
     },
     "execution_count": 46,
     "metadata": {},
     "output_type": "execute_result"
    }
   ],
   "source": [
    "df.drop(['BUN_first', 'Creatinine_first', 'Na_first', 'Weight_first'], axis=1)\n",
    "df"
   ],
   "metadata": {
    "collapsed": false,
    "pycharm": {
     "name": "#%%\n"
    }
   }
  },
  {
   "cell_type": "code",
   "execution_count": null,
   "outputs": [],
   "source": [],
   "metadata": {
    "collapsed": false,
    "pycharm": {
     "name": "#%%\n"
    }
   }
  }
 ],
 "metadata": {
  "kernelspec": {
   "display_name": "Python 3",
   "language": "python",
   "name": "python3"
  },
  "language_info": {
   "codemirror_mode": {
    "name": "ipython",
    "version": 2
   },
   "file_extension": ".py",
   "mimetype": "text/x-python",
   "name": "python",
   "nbconvert_exporter": "python",
   "pygments_lexer": "ipython2",
   "version": "2.7.6"
  }
 },
 "nbformat": 4,
 "nbformat_minor": 0
}