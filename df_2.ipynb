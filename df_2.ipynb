{
 "cells": [
  {
   "cell_type": "code",
   "execution_count": 199,
   "metadata": {
    "collapsed": true,
    "pycharm": {
     "name": "#%%\n"
    }
   },
   "outputs": [],
   "source": [
    "# Import tutto quanto\n",
    "import pandas as pd\n",
    "import matplotlib.pyplot as plt\n",
    "import seaborn as sns\n",
    "import numpy as np\n",
    "import copy"
   ]
  },
  {
   "cell_type": "code",
   "execution_count": 200,
   "outputs": [
    {
     "data": {
      "text/plain": "Index(['recordid', 'SAPS-I', 'SOFA', 'In-hospital_death', 'Age', 'Gender',\n       'Height', 'Weight', 'CCU', 'CSRU',\n       ...\n       'Platelets_last', 'TroponinI_last', 'TroponinT_last', 'WBC_last',\n       'Weight_last', 'pH_last', 'MechVentStartTime', 'MechVentDuration',\n       'MechVentLast8Hour', 'UrineOutputSum'],\n      dtype='object', length=121)"
     },
     "execution_count": 200,
     "metadata": {},
     "output_type": "execute_result"
    }
   ],
   "source": [
    "# LOADING DATA\n",
    "\n",
    "df=pd.read_csv(\"ICU_Challenge_Dataset.csv\", sep=\",\")\n",
    "df_description = df.describe()\n",
    "columns = df.columns\n",
    "columns"
   ],
   "metadata": {
    "collapsed": false,
    "pycharm": {
     "name": "#%%\n"
    }
   }
  },
  {
   "cell_type": "code",
   "execution_count": 201,
   "outputs": [
    {
     "name": "stdout",
     "output_type": "stream",
     "text": [
      "                         column_name  percent_missing\n",
      "recordid                    recordid         0.000000\n",
      "SAPS-I                        SAPS-I         0.000000\n",
      "SOFA                            SOFA         0.000000\n",
      "In-hospital_death  In-hospital_death         0.000000\n",
      "Age                              Age         0.000000\n",
      "...                              ...              ...\n",
      "TroponinT_first      TroponinT_first        77.766667\n",
      "Cholesterol_last    Cholesterol_last        92.133333\n",
      "Cholesterol_first  Cholesterol_first        92.133333\n",
      "TroponinI_last        TroponinI_last        95.250000\n",
      "TroponinI_first      TroponinI_first        95.250000\n",
      "\n",
      "[121 rows x 2 columns]\n"
     ]
    }
   ],
   "source": [
    "# MISSING DATA - da esplorare\n",
    "# print(df[df.columns[df.isna().any()]])\n",
    "percent_missing = df.isnull().sum() * 100 / len(df)\n",
    "missing_value_df = pd.DataFrame({'column_name': df.columns,\n",
    "                                 'percent_missing': percent_missing})\n",
    "missing_value_df.sort_values('percent_missing', inplace=True)\n",
    "print(missing_value_df)"
   ],
   "metadata": {
    "collapsed": false,
    "pycharm": {
     "name": "#%%\n"
    }
   }
  },
  {
   "cell_type": "code",
   "execution_count": 202,
   "outputs": [
    {
     "data": {
      "text/plain": "      recordid  SAPS-I  SOFA  In-hospital_death   Age  CCU  CSRU  SICU  \\\n0       132539       6     1                  0  54.0    0     0     1   \n1       132540      16     8                  0  76.0    0     1     0   \n2       132541      21    11                  0  44.0    0     0     0   \n3       132543       7     1                  0  68.0    0     0     0   \n4       132545      17     2                  0  88.0    0     0     0   \n...        ...     ...   ...                ...   ...  ...   ...   ...   \n5995    151939      19     6                  1  52.0    0     0     1   \n5996    151383      13     2                  0  90.0    1     0     0   \n5997    149623      12     9                  0  72.0    1     0     0   \n5998    145366      18    11                  1  52.0    0     0     0   \n5999    146804      19     9                  0  55.0    0     1     0   \n\n      Gender  BUN_first  ...  NIDiasABP_first  NIMAP_highest  \\\n0        0.0       13.0  ...             65.0          92.33   \n1        1.0       16.0  ...             38.0          88.33   \n2        0.0        8.0  ...             84.0         110.00   \n3        1.0       23.0  ...             63.0         100.70   \n4        0.0       45.0  ...             41.0         105.70   \n...      ...        ...  ...              ...            ...   \n5995     1.0       11.0  ...              NaN            NaN   \n5996     0.0       20.0  ...             80.0         117.30   \n5997     0.0       62.0  ...             63.0         100.30   \n5998     1.0       16.0  ...             74.0          92.00   \n5999     1.0       14.0  ...             43.0          68.67   \n\n      NIDiasABP_highest  NIDiasABP_last  pH_last  pH_first  PaCO2_first  \\\n0                  67.0            55.0      NaN       NaN          NaN   \n1                  67.0            49.0     7.37      7.45         34.0   \n2                  95.0            84.0     7.47      7.51         37.0   \n3                  81.0            81.0      NaN       NaN          NaN   \n4                  96.0            42.0      NaN       NaN          NaN   \n...                 ...             ...      ...       ...          ...   \n5995                NaN             NaN     7.46      7.43         37.0   \n5996              100.0            75.0      NaN       NaN          NaN   \n5997               74.0            51.0     7.39      7.27         89.0   \n5998               74.0            44.0     7.36      7.30         33.0   \n5999               43.0            43.0     7.41      7.30         51.0   \n\n      PaCO2_last  PaO2_last  PaO2_first  \n0            NaN        NaN         NaN  \n1           46.0      140.0       344.0  \n2           37.0      173.0        65.0  \n3            NaN        NaN         NaN  \n4            NaN        NaN         NaN  \n...          ...        ...         ...  \n5995        32.0      119.0       368.0  \n5996         NaN        NaN         NaN  \n5997        65.0       93.0        50.0  \n5998        42.0       86.0        94.0  \n5999        38.0       78.0       377.0  \n\n[6000 rows x 69 columns]",
      "text/html": "<div>\n<style scoped>\n    .dataframe tbody tr th:only-of-type {\n        vertical-align: middle;\n    }\n\n    .dataframe tbody tr th {\n        vertical-align: top;\n    }\n\n    .dataframe thead th {\n        text-align: right;\n    }\n</style>\n<table border=\"1\" class=\"dataframe\">\n  <thead>\n    <tr style=\"text-align: right;\">\n      <th></th>\n      <th>recordid</th>\n      <th>SAPS-I</th>\n      <th>SOFA</th>\n      <th>In-hospital_death</th>\n      <th>Age</th>\n      <th>CCU</th>\n      <th>CSRU</th>\n      <th>SICU</th>\n      <th>Gender</th>\n      <th>BUN_first</th>\n      <th>...</th>\n      <th>NIDiasABP_first</th>\n      <th>NIMAP_highest</th>\n      <th>NIDiasABP_highest</th>\n      <th>NIDiasABP_last</th>\n      <th>pH_last</th>\n      <th>pH_first</th>\n      <th>PaCO2_first</th>\n      <th>PaCO2_last</th>\n      <th>PaO2_last</th>\n      <th>PaO2_first</th>\n    </tr>\n  </thead>\n  <tbody>\n    <tr>\n      <th>0</th>\n      <td>132539</td>\n      <td>6</td>\n      <td>1</td>\n      <td>0</td>\n      <td>54.0</td>\n      <td>0</td>\n      <td>0</td>\n      <td>1</td>\n      <td>0.0</td>\n      <td>13.0</td>\n      <td>...</td>\n      <td>65.0</td>\n      <td>92.33</td>\n      <td>67.0</td>\n      <td>55.0</td>\n      <td>NaN</td>\n      <td>NaN</td>\n      <td>NaN</td>\n      <td>NaN</td>\n      <td>NaN</td>\n      <td>NaN</td>\n    </tr>\n    <tr>\n      <th>1</th>\n      <td>132540</td>\n      <td>16</td>\n      <td>8</td>\n      <td>0</td>\n      <td>76.0</td>\n      <td>0</td>\n      <td>1</td>\n      <td>0</td>\n      <td>1.0</td>\n      <td>16.0</td>\n      <td>...</td>\n      <td>38.0</td>\n      <td>88.33</td>\n      <td>67.0</td>\n      <td>49.0</td>\n      <td>7.37</td>\n      <td>7.45</td>\n      <td>34.0</td>\n      <td>46.0</td>\n      <td>140.0</td>\n      <td>344.0</td>\n    </tr>\n    <tr>\n      <th>2</th>\n      <td>132541</td>\n      <td>21</td>\n      <td>11</td>\n      <td>0</td>\n      <td>44.0</td>\n      <td>0</td>\n      <td>0</td>\n      <td>0</td>\n      <td>0.0</td>\n      <td>8.0</td>\n      <td>...</td>\n      <td>84.0</td>\n      <td>110.00</td>\n      <td>95.0</td>\n      <td>84.0</td>\n      <td>7.47</td>\n      <td>7.51</td>\n      <td>37.0</td>\n      <td>37.0</td>\n      <td>173.0</td>\n      <td>65.0</td>\n    </tr>\n    <tr>\n      <th>3</th>\n      <td>132543</td>\n      <td>7</td>\n      <td>1</td>\n      <td>0</td>\n      <td>68.0</td>\n      <td>0</td>\n      <td>0</td>\n      <td>0</td>\n      <td>1.0</td>\n      <td>23.0</td>\n      <td>...</td>\n      <td>63.0</td>\n      <td>100.70</td>\n      <td>81.0</td>\n      <td>81.0</td>\n      <td>NaN</td>\n      <td>NaN</td>\n      <td>NaN</td>\n      <td>NaN</td>\n      <td>NaN</td>\n      <td>NaN</td>\n    </tr>\n    <tr>\n      <th>4</th>\n      <td>132545</td>\n      <td>17</td>\n      <td>2</td>\n      <td>0</td>\n      <td>88.0</td>\n      <td>0</td>\n      <td>0</td>\n      <td>0</td>\n      <td>0.0</td>\n      <td>45.0</td>\n      <td>...</td>\n      <td>41.0</td>\n      <td>105.70</td>\n      <td>96.0</td>\n      <td>42.0</td>\n      <td>NaN</td>\n      <td>NaN</td>\n      <td>NaN</td>\n      <td>NaN</td>\n      <td>NaN</td>\n      <td>NaN</td>\n    </tr>\n    <tr>\n      <th>...</th>\n      <td>...</td>\n      <td>...</td>\n      <td>...</td>\n      <td>...</td>\n      <td>...</td>\n      <td>...</td>\n      <td>...</td>\n      <td>...</td>\n      <td>...</td>\n      <td>...</td>\n      <td>...</td>\n      <td>...</td>\n      <td>...</td>\n      <td>...</td>\n      <td>...</td>\n      <td>...</td>\n      <td>...</td>\n      <td>...</td>\n      <td>...</td>\n      <td>...</td>\n      <td>...</td>\n    </tr>\n    <tr>\n      <th>5995</th>\n      <td>151939</td>\n      <td>19</td>\n      <td>6</td>\n      <td>1</td>\n      <td>52.0</td>\n      <td>0</td>\n      <td>0</td>\n      <td>1</td>\n      <td>1.0</td>\n      <td>11.0</td>\n      <td>...</td>\n      <td>NaN</td>\n      <td>NaN</td>\n      <td>NaN</td>\n      <td>NaN</td>\n      <td>7.46</td>\n      <td>7.43</td>\n      <td>37.0</td>\n      <td>32.0</td>\n      <td>119.0</td>\n      <td>368.0</td>\n    </tr>\n    <tr>\n      <th>5996</th>\n      <td>151383</td>\n      <td>13</td>\n      <td>2</td>\n      <td>0</td>\n      <td>90.0</td>\n      <td>1</td>\n      <td>0</td>\n      <td>0</td>\n      <td>0.0</td>\n      <td>20.0</td>\n      <td>...</td>\n      <td>80.0</td>\n      <td>117.30</td>\n      <td>100.0</td>\n      <td>75.0</td>\n      <td>NaN</td>\n      <td>NaN</td>\n      <td>NaN</td>\n      <td>NaN</td>\n      <td>NaN</td>\n      <td>NaN</td>\n    </tr>\n    <tr>\n      <th>5997</th>\n      <td>149623</td>\n      <td>12</td>\n      <td>9</td>\n      <td>0</td>\n      <td>72.0</td>\n      <td>1</td>\n      <td>0</td>\n      <td>0</td>\n      <td>0.0</td>\n      <td>62.0</td>\n      <td>...</td>\n      <td>63.0</td>\n      <td>100.30</td>\n      <td>74.0</td>\n      <td>51.0</td>\n      <td>7.39</td>\n      <td>7.27</td>\n      <td>89.0</td>\n      <td>65.0</td>\n      <td>93.0</td>\n      <td>50.0</td>\n    </tr>\n    <tr>\n      <th>5998</th>\n      <td>145366</td>\n      <td>18</td>\n      <td>11</td>\n      <td>1</td>\n      <td>52.0</td>\n      <td>0</td>\n      <td>0</td>\n      <td>0</td>\n      <td>1.0</td>\n      <td>16.0</td>\n      <td>...</td>\n      <td>74.0</td>\n      <td>92.00</td>\n      <td>74.0</td>\n      <td>44.0</td>\n      <td>7.36</td>\n      <td>7.30</td>\n      <td>33.0</td>\n      <td>42.0</td>\n      <td>86.0</td>\n      <td>94.0</td>\n    </tr>\n    <tr>\n      <th>5999</th>\n      <td>146804</td>\n      <td>19</td>\n      <td>9</td>\n      <td>0</td>\n      <td>55.0</td>\n      <td>0</td>\n      <td>1</td>\n      <td>0</td>\n      <td>1.0</td>\n      <td>14.0</td>\n      <td>...</td>\n      <td>43.0</td>\n      <td>68.67</td>\n      <td>43.0</td>\n      <td>43.0</td>\n      <td>7.41</td>\n      <td>7.30</td>\n      <td>51.0</td>\n      <td>38.0</td>\n      <td>78.0</td>\n      <td>377.0</td>\n    </tr>\n  </tbody>\n</table>\n<p>6000 rows × 69 columns</p>\n</div>"
     },
     "execution_count": 202,
     "metadata": {},
     "output_type": "execute_result"
    }
   ],
   "source": [
    "df_col_keep = missing_value_df[missing_value_df['percent_missing']<30]\n",
    "df_col = df_col_keep['column_name']\n",
    "\n",
    "df=df[df_col]\n",
    "df"
   ],
   "metadata": {
    "collapsed": false,
    "pycharm": {
     "name": "#%%\n"
    }
   }
  },
  {
   "cell_type": "code",
   "execution_count": 203,
   "outputs": [
    {
     "name": "stdout",
     "output_type": "stream",
     "text": [
      "0    5162\n",
      "1     838\n",
      "Name: In-hospital_death, dtype: int64\n"
     ]
    }
   ],
   "source": [
    "print(df['In-hospital_death'].value_counts())"
   ],
   "metadata": {
    "collapsed": false,
    "pycharm": {
     "name": "#%%\n"
    }
   }
  },
  {
   "cell_type": "code",
   "execution_count": 204,
   "outputs": [
    {
     "name": "stdout",
     "output_type": "stream",
     "text": [
      "[dtype('int64') dtype('float64')]\n"
     ]
    }
   ],
   "source": [
    "print(np.unique(df.dtypes))\n",
    "\n",
    "int_var = list(df.columns[df.dtypes == np.int64])\n",
    "float_var = list(df.columns[df.dtypes == np.float64])\n",
    "\n",
    "cat_var = []\n",
    "num_var = []\n",
    "for cat in list(df.columns):\n",
    "    if len(df[cat].unique()) <=3: #conta anche i Nan come valori\n",
    "        cat_var.append(cat)\n",
    "    else:\n",
    "        num_var.append(cat)\n",
    "\n",
    "categorical_df = df[cat_var]\n",
    "numerical_df = df[num_var]"
   ],
   "metadata": {
    "collapsed": false,
    "pycharm": {
     "name": "#%%\n"
    }
   }
  },
  {
   "cell_type": "code",
   "execution_count": 205,
   "outputs": [
    {
     "name": "stdout",
     "output_type": "stream",
     "text": [
      "recordid \n",
      " NormaltestResult(statistic=842.8952779362795, pvalue=9.281453324358711e-184) \n",
      "\n",
      "SAPS-I \n",
      " NormaltestResult(statistic=178.46362453579428, pvalue=1.7665109011997907e-39) \n",
      "\n",
      "SOFA \n",
      " NormaltestResult(statistic=145.41575069788357, pvalue=2.650763275105637e-32) \n",
      "\n",
      "Age \n",
      " NormaltestResult(statistic=359.68535645125036, pvalue=7.858094294744039e-79) \n",
      "\n",
      "BUN_first \n",
      " NormaltestResult(statistic=3229.820965379643, pvalue=0.0) \n",
      "\n",
      "Creatinine_last \n",
      " NormaltestResult(statistic=4722.975745445371, pvalue=0.0) \n",
      "\n",
      "BUN_last \n",
      " NormaltestResult(statistic=2725.806709376353, pvalue=0.0) \n",
      "\n",
      "Creatinine_first \n",
      " NormaltestResult(statistic=5735.2033386169605, pvalue=0.0) \n",
      "\n",
      "HCT_first \n",
      " NormaltestResult(statistic=44.06438668636649, pvalue=2.701095919471259e-10) \n",
      "\n",
      "HCT_last \n",
      " NormaltestResult(statistic=375.8779347073141, pvalue=2.3941069297250362e-82) \n",
      "\n",
      "HR_first \n",
      " NormaltestResult(statistic=296.5261930061873, pvalue=4.075259972210311e-65) \n",
      "\n",
      "HR_median \n",
      " NormaltestResult(statistic=65.8838788512379, pvalue=4.937390581593365e-15) \n",
      "\n",
      "HR_highest \n",
      " NormaltestResult(statistic=466.340750540311, pvalue=5.43741745297317e-102) \n",
      "\n",
      "HR_lowest \n",
      " NormaltestResult(statistic=50.39063024228096, pvalue=1.1423881067535228e-11) \n",
      "\n",
      "HR_last \n",
      " NormaltestResult(statistic=287.39128255812864, pvalue=3.9244239634542613e-63) \n",
      "\n",
      "Temp_median \n",
      " NormaltestResult(statistic=112.54494272790802, pvalue=3.640627150485427e-25) \n",
      "\n",
      "Temp_highest \n",
      " NormaltestResult(statistic=358.5854670627672, pvalue=1.3619312403820618e-78) \n",
      "\n",
      "GCS_highest \n",
      " NormaltestResult(statistic=1884.9478650222618, pvalue=0.0) \n",
      "\n",
      "Temp_lowest \n",
      " NormaltestResult(statistic=2224.9235620866284, pvalue=0.0) \n",
      "\n",
      "GCS_lowest \n",
      " NormaltestResult(statistic=31006.958144596, pvalue=0.0) \n",
      "\n",
      "Temp_last \n",
      " NormaltestResult(statistic=117.35041720710552, pvalue=3.29367451135906e-26) \n",
      "\n",
      "GCS_median \n",
      " NormaltestResult(statistic=653.7684823196802, pvalue=1.0863701977321717e-142) \n",
      "\n",
      "Temp_first \n",
      " NormaltestResult(statistic=237.17787370242903, pvalue=3.1439751936514694e-52) \n",
      "\n",
      "GCS_first \n",
      " NormaltestResult(statistic=36125.28282561526, pvalue=0.0) \n",
      "\n",
      "GCS_last \n",
      " NormaltestResult(statistic=928.2581633422802, pvalue=2.6996094479956317e-202) \n",
      "\n",
      "Platelets_last \n",
      " NormaltestResult(statistic=2130.727732813666, pvalue=0.0) \n",
      "\n",
      "Platelets_first \n",
      " NormaltestResult(statistic=1997.9682428657854, pvalue=0.0) \n",
      "\n",
      "HCO3_first \n",
      " NormaltestResult(statistic=360.9959829410469, pvalue=4.080546297937946e-79) \n",
      "\n",
      "HCO3_last \n",
      " NormaltestResult(statistic=317.88978262012245, pvalue=9.356443024573844e-70) \n",
      "\n",
      "Na_first \n",
      " NormaltestResult(statistic=801.5520402344063, pvalue=8.814262575924323e-175) \n",
      "\n",
      "Na_last \n",
      " NormaltestResult(statistic=200.41230706475795, pvalue=3.0270560887696285e-44) \n",
      "\n",
      "K_first \n",
      " NormaltestResult(statistic=3919.0523079379195, pvalue=0.0) \n",
      "\n",
      "K_last \n",
      " NormaltestResult(statistic=551.183291350887, pvalue=2.051488205841158e-120) \n",
      "\n",
      "WBC_first \n",
      " NormaltestResult(statistic=7694.945693228238, pvalue=0.0) \n",
      "\n",
      "WBC_last \n",
      " NormaltestResult(statistic=6347.14777306991, pvalue=0.0) \n",
      "\n",
      "Mg_last \n",
      " NormaltestResult(statistic=1163.2734355437924, pvalue=2.5025513603108224e-253) \n",
      "\n",
      "Mg_first \n",
      " NormaltestResult(statistic=3677.9850615668693, pvalue=0.0) \n",
      "\n",
      "Glucose_lowest \n",
      " NormaltestResult(statistic=1016.5782229200997, pvalue=1.7899614649038293e-221) \n",
      "\n",
      "Glucose_last \n",
      " NormaltestResult(statistic=3035.9634293168597, pvalue=0.0) \n",
      "\n",
      "Glucose_median \n",
      " NormaltestResult(statistic=2275.055247974339, pvalue=0.0) \n",
      "\n",
      "Glucose_first \n",
      " NormaltestResult(statistic=5296.431575142095, pvalue=0.0) \n",
      "\n",
      "Glucose_highest \n",
      " NormaltestResult(statistic=5260.140435210836, pvalue=0.0) \n",
      "\n",
      "Weight \n",
      " NormaltestResult(statistic=2033.456414309274, pvalue=0.0) \n",
      "\n",
      "NISysABP_median \n",
      " NormaltestResult(statistic=326.5474651846614, pvalue=1.2334424625872986e-71) \n",
      "\n",
      "NISysABP_highest \n",
      " NormaltestResult(statistic=250.659532721952, pvalue=3.715130307867328e-55) \n",
      "\n",
      "NISysABP_first \n",
      " NormaltestResult(statistic=226.06101948769145, pvalue=8.155927029771724e-50) \n",
      "\n",
      "NISysABP_last \n",
      " NormaltestResult(statistic=233.39146798779382, pvalue=2.087789287123493e-51) \n",
      "\n",
      "NISysABP_lowest \n",
      " NormaltestResult(statistic=493.1236478195935, pvalue=8.30922325650129e-108) \n",
      "\n",
      "NIDiasABP_lowest \n",
      " NormaltestResult(statistic=456.6258267032009, pvalue=6.997800936733961e-100) \n",
      "\n",
      "NIMAP_lowest \n",
      " NormaltestResult(statistic=554.1933114807125, pvalue=4.554612755879555e-121) \n",
      "\n",
      "NIMAP_median \n",
      " NormaltestResult(statistic=400.57881888896134, pvalue=1.036131064531712e-87) \n",
      "\n",
      "NIDiasABP_median \n",
      " NormaltestResult(statistic=363.60265726475757, pvalue=1.1083735983862036e-79) \n",
      "\n",
      "NIMAP_first \n",
      " NormaltestResult(statistic=238.96789816190676, pvalue=1.2846364432000021e-52) \n",
      "\n",
      "NIMAP_last \n",
      " NormaltestResult(statistic=500.3028470173526, pvalue=2.2941252763920424e-109) \n",
      "\n",
      "NIDiasABP_first \n",
      " NormaltestResult(statistic=399.9255633238284, pvalue=1.4363733481296615e-87) \n",
      "\n",
      "NIMAP_highest \n",
      " NormaltestResult(statistic=461.07884319122377, pvalue=7.550945572327097e-101) \n",
      "\n",
      "NIDiasABP_highest \n",
      " NormaltestResult(statistic=406.4087099702771, pvalue=5.61655390311247e-89) \n",
      "\n",
      "NIDiasABP_last \n",
      " NormaltestResult(statistic=564.2436437896049, pvalue=2.9926058915313917e-123) \n",
      "\n",
      "pH_last \n",
      " NormaltestResult(statistic=592.2569335352633, pvalue=2.4719572075901567e-129) \n",
      "\n",
      "pH_first \n",
      " NormaltestResult(statistic=590.1213082889625, pvalue=7.190946841665967e-129) \n",
      "\n",
      "PaCO2_first \n",
      " NormaltestResult(statistic=1324.3567398408802, pvalue=2.6277733742653105e-288) \n",
      "\n",
      "PaCO2_last \n",
      " NormaltestResult(statistic=1398.9263825632786, pvalue=1.6865364507707866e-304) \n",
      "\n",
      "PaO2_last \n",
      " NormaltestResult(statistic=2606.0113547435103, pvalue=0.0) \n",
      "\n",
      "PaO2_first \n",
      " NormaltestResult(statistic=722.0152995486434, pvalue=1.645772412597637e-157) \n",
      "\n"
     ]
    }
   ],
   "source": [
    "#Normality test\n",
    "#Hp0: normal distribution (p-value<0.05 => reject it)\n",
    "import scipy.stats as sci\n",
    "for x in list(numerical_df.columns):\n",
    "    y=sci.normaltest(numerical_df[x], nan_policy='omit')\n",
    "    print(x, '\\n', y, '\\n')"
   ],
   "metadata": {
    "collapsed": false,
    "pycharm": {
     "name": "#%%\n"
    }
   }
  },
  {
   "cell_type": "code",
   "execution_count": 206,
   "outputs": [
    {
     "name": "stdout",
     "output_type": "stream",
     "text": [
      "BUN\n",
      " MannwhitneyuResult(statistic=17614605.0, pvalue=0.29981721794226535)\n",
      "\n",
      "\n",
      "Creatinine\n",
      " MannwhitneyuResult(statistic=17557180.0, pvalue=0.4663447229665394)\n",
      "\n",
      "\n",
      "HCT\n",
      " MannwhitneyuResult(statistic=19566419.0, pvalue=3.558726270824122e-31)\n",
      "\n",
      "\n",
      "HR\n",
      " MannwhitneyuResult(statistic=19187529.5, pvalue=2.0600174229886776e-22)\n",
      "\n",
      "\n",
      "Temp\n",
      " MannwhitneyuResult(statistic=12305599.0, pvalue=2.892439692928371e-166)\n",
      "\n",
      "\n",
      "GCS\n",
      " MannwhitneyuResult(statistic=12970276.0, pvalue=4.004574406370745e-140)\n",
      "\n",
      "\n",
      "Platelets\n",
      " MannwhitneyuResult(statistic=19870854.0, pvalue=1.479965468395165e-41)\n",
      "\n",
      "\n",
      "HCO3\n",
      " MannwhitneyuResult(statistic=14709169.0, pvalue=4.7381289527075e-46)\n",
      "\n",
      "\n",
      "Na\n",
      " MannwhitneyuResult(statistic=17335528.5, pvalue=0.9434850748661205)\n",
      "\n",
      "\n",
      "K\n",
      " MannwhitneyuResult(statistic=18566664.0, pvalue=4.796755746113763e-14)\n",
      "\n",
      "\n",
      "WBC\n",
      " MannwhitneyuResult(statistic=17789766.5, pvalue=0.0008012400962805928)\n",
      "\n",
      "\n",
      "Mg\n",
      " MannwhitneyuResult(statistic=13532952.0, pvalue=4.08955520274117e-86)\n",
      "\n",
      "\n",
      "Glucose\n",
      " MannwhitneyuResult(statistic=19876694.5, pvalue=1.883051148172236e-53)\n",
      "\n",
      "\n",
      "NISysABP\n",
      " MannwhitneyuResult(statistic=14275745.0, pvalue=0.0005352402330792935)\n",
      "\n",
      "\n",
      "NIMAP\n",
      " MannwhitneyuResult(statistic=14760132.5, pvalue=1.6795958166420347e-11)\n",
      "\n",
      "\n",
      "NIDiasABP\n",
      " MannwhitneyuResult(statistic=14962498.5, pvalue=8.955321261570306e-16)\n",
      "\n",
      "\n",
      "pH\n",
      " MannwhitneyuResult(statistic=8245264.5, pvalue=2.5538291597120635e-57)\n",
      "\n",
      "\n",
      "PaO2\n",
      " MannwhitneyuResult(statistic=13998235.0, pvalue=4.358870962708746e-218)\n",
      "\n",
      "\n",
      "PaCO2\n",
      " MannwhitneyuResult(statistic=10708423.5, pvalue=1.7878334446974753e-06)\n"
     ]
    }
   ],
   "source": [
    "#For non normal (all in this case) -> Wilcoxon-Mann-Whitney test\n",
    "#Hp0: are they the same?\n",
    "\n",
    "print('BUN\\n', sci.mannwhitneyu(numerical_df['BUN_first'], numerical_df['BUN_last'], nan_policy='omit'))\n",
    "#same\n",
    "print('\\n\\nCreatinine\\n', sci.mannwhitneyu(numerical_df['Creatinine_first'], numerical_df['Creatinine_last'], nan_policy='omit'))\n",
    "#same\n",
    "print('\\n\\nHCT\\n', sci.mannwhitneyu(numerical_df['HCT_first'], numerical_df['HCT_last'], nan_policy='omit'))\n",
    "#different\n",
    "print('\\n\\nHR\\n', sci.mannwhitneyu(numerical_df['HR_first'], numerical_df['HR_last'], nan_policy='omit'))\n",
    "#different\n",
    "print('\\n\\nTemp\\n', sci.mannwhitneyu(numerical_df['Temp_first'], numerical_df['Temp_last'], nan_policy='omit'))\n",
    "#different\n",
    "print('\\n\\nGCS\\n', sci.mannwhitneyu(numerical_df['GCS_first'], numerical_df['GCS_last'], nan_policy='omit'))\n",
    "#different\n",
    "print('\\n\\nPlatelets\\n', sci.mannwhitneyu(numerical_df['Platelets_first'], numerical_df['Platelets_last'], nan_policy='omit'))\n",
    "#different\n",
    "print('\\n\\nHCO3\\n', sci.mannwhitneyu(numerical_df['HCO3_first'], numerical_df['HCO3_last'], nan_policy='omit'))\n",
    "#different\n",
    "print('\\n\\nNa\\n', sci.mannwhitneyu(numerical_df['Na_first'], numerical_df['Na_last'], nan_policy='omit'))\n",
    "#same\n",
    "print('\\n\\nK\\n', sci.mannwhitneyu(numerical_df['K_first'], numerical_df['K_last'], nan_policy='omit'))\n",
    "#different\n",
    "print('\\n\\nWBC\\n', sci.mannwhitneyu(numerical_df['WBC_first'], numerical_df['WBC_last'], nan_policy='omit'))\n",
    "#different\n",
    "print('\\n\\nMg\\n', sci.mannwhitneyu(numerical_df['Mg_first'], numerical_df['Mg_last'], nan_policy='omit'))\n",
    "#different\n",
    "print('\\n\\nGlucose\\n', sci.mannwhitneyu(numerical_df['Glucose_first'], numerical_df['Glucose_last'], nan_policy='omit'))\n",
    "#different\n",
    "print('\\n\\nNISysABP\\n', sci.mannwhitneyu(numerical_df['NISysABP_first'], numerical_df['NISysABP_last'], nan_policy='omit'))\n",
    "#different\n",
    "print('\\n\\nNIMAP\\n', sci.mannwhitneyu(numerical_df['NIMAP_first'], numerical_df['NIMAP_last'], nan_policy='omit'))\n",
    "#different\n",
    "print('\\n\\nNIDiasABP\\n', sci.mannwhitneyu(numerical_df['NIDiasABP_first'], numerical_df['NIDiasABP_last'], nan_policy='omit'))\n",
    "#different\n",
    "print('\\n\\npH\\n', sci.mannwhitneyu(numerical_df['pH_first'], numerical_df['pH_last'], nan_policy='omit'))\n",
    "#different\n",
    "print('\\n\\nPaO2\\n', sci.mannwhitneyu(numerical_df['PaO2_first'], numerical_df['PaO2_last'], nan_policy='omit'))\n",
    "#different\n",
    "print('\\n\\nPaCO2\\n', sci.mannwhitneyu(numerical_df['PaCO2_first'], numerical_df['PaCO2_last'], nan_policy='omit'))\n",
    "#different\n",
    "\n",
    "#print('\\n\\nMAP\\n', sci.mannwhitneyu(numerical_df['MAP_first'], numerical_df['MAP_last'], nan_policy='omit'))\n",
    "#different\n",
    "#print('\\n\\nSysABP\\n', sci.mannwhitneyu(numerical_df['SysABP_first'], numerical_df['SysABP_last'], nan_policy='omit'))\n",
    "#different\n",
    "#print('\\n\\nDiasABP\\n', sci.mannwhitneyu(numerical_df['DiasABP_first'], numerical_df['DiasABP_last'], nan_policy='omit'))\n",
    "#different\n",
    "#print('\\n\\nWeight\\n', sci.mannwhitneyu(numerical_df['Weight_first'], numerical_df['Weight_last'], nan_policy='omit'))\n",
    "#same\n",
    "#print('\\n\\nFiO2\\n', sci.mannwhitneyu(numerical_df['FiO2_first'], numerical_df['FiO2_last'], nan_policy='omit'))\n",
    "#different\n",
    "#print('\\n\\nLactate\\n', sci.mannwhitneyu(numerical_df['Lactate_first'], numerical_df['Lactate_last'], nan_policy='omit'))\n",
    "#different"
   ],
   "metadata": {
    "collapsed": false,
    "pycharm": {
     "name": "#%%\n"
    }
   }
  },
  {
   "cell_type": "code",
   "execution_count": 207,
   "outputs": [
    {
     "data": {
      "text/plain": "      recordid  SAPS-I  SOFA  In-hospital_death   Age  CCU  CSRU  SICU  \\\n0       132539       6     1                  0  54.0    0     0     1   \n1       132540      16     8                  0  76.0    0     1     0   \n2       132541      21    11                  0  44.0    0     0     0   \n3       132543       7     1                  0  68.0    0     0     0   \n4       132545      17     2                  0  88.0    0     0     0   \n...        ...     ...   ...                ...   ...  ...   ...   ...   \n5995    151939      19     6                  1  52.0    0     0     1   \n5996    151383      13     2                  0  90.0    1     0     0   \n5997    149623      12     9                  0  72.0    1     0     0   \n5998    145366      18    11                  1  52.0    0     0     0   \n5999    146804      19     9                  0  55.0    0     1     0   \n\n      Gender  Creatinine_last  ...  NIDiasABP_first  NIMAP_highest  \\\n0        0.0              0.7  ...             65.0          92.33   \n1        1.0              1.3  ...             38.0          88.33   \n2        0.0              0.3  ...             84.0         110.00   \n3        1.0              0.7  ...             63.0         100.70   \n4        0.0              1.0  ...             41.0         105.70   \n...      ...              ...  ...              ...            ...   \n5995     1.0              0.6  ...              NaN            NaN   \n5996     0.0              0.7  ...             80.0         117.30   \n5997     0.0              2.8  ...             63.0         100.30   \n5998     1.0              1.0  ...             74.0          92.00   \n5999     1.0              1.3  ...             43.0          68.67   \n\n      NIDiasABP_highest  NIDiasABP_last  pH_last  pH_first  PaCO2_first  \\\n0                  67.0            55.0      NaN       NaN          NaN   \n1                  67.0            49.0     7.37      7.45         34.0   \n2                  95.0            84.0     7.47      7.51         37.0   \n3                  81.0            81.0      NaN       NaN          NaN   \n4                  96.0            42.0      NaN       NaN          NaN   \n...                 ...             ...      ...       ...          ...   \n5995                NaN             NaN     7.46      7.43         37.0   \n5996              100.0            75.0      NaN       NaN          NaN   \n5997               74.0            51.0     7.39      7.27         89.0   \n5998               74.0            44.0     7.36      7.30         33.0   \n5999               43.0            43.0     7.41      7.30         51.0   \n\n      PaCO2_last  PaO2_last  PaO2_first  \n0            NaN        NaN         NaN  \n1           46.0      140.0       344.0  \n2           37.0      173.0        65.0  \n3            NaN        NaN         NaN  \n4            NaN        NaN         NaN  \n...          ...        ...         ...  \n5995        32.0      119.0       368.0  \n5996         NaN        NaN         NaN  \n5997        65.0       93.0        50.0  \n5998        42.0       86.0        94.0  \n5999        38.0       78.0       377.0  \n\n[6000 rows x 66 columns]",
      "text/html": "<div>\n<style scoped>\n    .dataframe tbody tr th:only-of-type {\n        vertical-align: middle;\n    }\n\n    .dataframe tbody tr th {\n        vertical-align: top;\n    }\n\n    .dataframe thead th {\n        text-align: right;\n    }\n</style>\n<table border=\"1\" class=\"dataframe\">\n  <thead>\n    <tr style=\"text-align: right;\">\n      <th></th>\n      <th>recordid</th>\n      <th>SAPS-I</th>\n      <th>SOFA</th>\n      <th>In-hospital_death</th>\n      <th>Age</th>\n      <th>CCU</th>\n      <th>CSRU</th>\n      <th>SICU</th>\n      <th>Gender</th>\n      <th>Creatinine_last</th>\n      <th>...</th>\n      <th>NIDiasABP_first</th>\n      <th>NIMAP_highest</th>\n      <th>NIDiasABP_highest</th>\n      <th>NIDiasABP_last</th>\n      <th>pH_last</th>\n      <th>pH_first</th>\n      <th>PaCO2_first</th>\n      <th>PaCO2_last</th>\n      <th>PaO2_last</th>\n      <th>PaO2_first</th>\n    </tr>\n  </thead>\n  <tbody>\n    <tr>\n      <th>0</th>\n      <td>132539</td>\n      <td>6</td>\n      <td>1</td>\n      <td>0</td>\n      <td>54.0</td>\n      <td>0</td>\n      <td>0</td>\n      <td>1</td>\n      <td>0.0</td>\n      <td>0.7</td>\n      <td>...</td>\n      <td>65.0</td>\n      <td>92.33</td>\n      <td>67.0</td>\n      <td>55.0</td>\n      <td>NaN</td>\n      <td>NaN</td>\n      <td>NaN</td>\n      <td>NaN</td>\n      <td>NaN</td>\n      <td>NaN</td>\n    </tr>\n    <tr>\n      <th>1</th>\n      <td>132540</td>\n      <td>16</td>\n      <td>8</td>\n      <td>0</td>\n      <td>76.0</td>\n      <td>0</td>\n      <td>1</td>\n      <td>0</td>\n      <td>1.0</td>\n      <td>1.3</td>\n      <td>...</td>\n      <td>38.0</td>\n      <td>88.33</td>\n      <td>67.0</td>\n      <td>49.0</td>\n      <td>7.37</td>\n      <td>7.45</td>\n      <td>34.0</td>\n      <td>46.0</td>\n      <td>140.0</td>\n      <td>344.0</td>\n    </tr>\n    <tr>\n      <th>2</th>\n      <td>132541</td>\n      <td>21</td>\n      <td>11</td>\n      <td>0</td>\n      <td>44.0</td>\n      <td>0</td>\n      <td>0</td>\n      <td>0</td>\n      <td>0.0</td>\n      <td>0.3</td>\n      <td>...</td>\n      <td>84.0</td>\n      <td>110.00</td>\n      <td>95.0</td>\n      <td>84.0</td>\n      <td>7.47</td>\n      <td>7.51</td>\n      <td>37.0</td>\n      <td>37.0</td>\n      <td>173.0</td>\n      <td>65.0</td>\n    </tr>\n    <tr>\n      <th>3</th>\n      <td>132543</td>\n      <td>7</td>\n      <td>1</td>\n      <td>0</td>\n      <td>68.0</td>\n      <td>0</td>\n      <td>0</td>\n      <td>0</td>\n      <td>1.0</td>\n      <td>0.7</td>\n      <td>...</td>\n      <td>63.0</td>\n      <td>100.70</td>\n      <td>81.0</td>\n      <td>81.0</td>\n      <td>NaN</td>\n      <td>NaN</td>\n      <td>NaN</td>\n      <td>NaN</td>\n      <td>NaN</td>\n      <td>NaN</td>\n    </tr>\n    <tr>\n      <th>4</th>\n      <td>132545</td>\n      <td>17</td>\n      <td>2</td>\n      <td>0</td>\n      <td>88.0</td>\n      <td>0</td>\n      <td>0</td>\n      <td>0</td>\n      <td>0.0</td>\n      <td>1.0</td>\n      <td>...</td>\n      <td>41.0</td>\n      <td>105.70</td>\n      <td>96.0</td>\n      <td>42.0</td>\n      <td>NaN</td>\n      <td>NaN</td>\n      <td>NaN</td>\n      <td>NaN</td>\n      <td>NaN</td>\n      <td>NaN</td>\n    </tr>\n    <tr>\n      <th>...</th>\n      <td>...</td>\n      <td>...</td>\n      <td>...</td>\n      <td>...</td>\n      <td>...</td>\n      <td>...</td>\n      <td>...</td>\n      <td>...</td>\n      <td>...</td>\n      <td>...</td>\n      <td>...</td>\n      <td>...</td>\n      <td>...</td>\n      <td>...</td>\n      <td>...</td>\n      <td>...</td>\n      <td>...</td>\n      <td>...</td>\n      <td>...</td>\n      <td>...</td>\n      <td>...</td>\n    </tr>\n    <tr>\n      <th>5995</th>\n      <td>151939</td>\n      <td>19</td>\n      <td>6</td>\n      <td>1</td>\n      <td>52.0</td>\n      <td>0</td>\n      <td>0</td>\n      <td>1</td>\n      <td>1.0</td>\n      <td>0.6</td>\n      <td>...</td>\n      <td>NaN</td>\n      <td>NaN</td>\n      <td>NaN</td>\n      <td>NaN</td>\n      <td>7.46</td>\n      <td>7.43</td>\n      <td>37.0</td>\n      <td>32.0</td>\n      <td>119.0</td>\n      <td>368.0</td>\n    </tr>\n    <tr>\n      <th>5996</th>\n      <td>151383</td>\n      <td>13</td>\n      <td>2</td>\n      <td>0</td>\n      <td>90.0</td>\n      <td>1</td>\n      <td>0</td>\n      <td>0</td>\n      <td>0.0</td>\n      <td>0.7</td>\n      <td>...</td>\n      <td>80.0</td>\n      <td>117.30</td>\n      <td>100.0</td>\n      <td>75.0</td>\n      <td>NaN</td>\n      <td>NaN</td>\n      <td>NaN</td>\n      <td>NaN</td>\n      <td>NaN</td>\n      <td>NaN</td>\n    </tr>\n    <tr>\n      <th>5997</th>\n      <td>149623</td>\n      <td>12</td>\n      <td>9</td>\n      <td>0</td>\n      <td>72.0</td>\n      <td>1</td>\n      <td>0</td>\n      <td>0</td>\n      <td>0.0</td>\n      <td>2.8</td>\n      <td>...</td>\n      <td>63.0</td>\n      <td>100.30</td>\n      <td>74.0</td>\n      <td>51.0</td>\n      <td>7.39</td>\n      <td>7.27</td>\n      <td>89.0</td>\n      <td>65.0</td>\n      <td>93.0</td>\n      <td>50.0</td>\n    </tr>\n    <tr>\n      <th>5998</th>\n      <td>145366</td>\n      <td>18</td>\n      <td>11</td>\n      <td>1</td>\n      <td>52.0</td>\n      <td>0</td>\n      <td>0</td>\n      <td>0</td>\n      <td>1.0</td>\n      <td>1.0</td>\n      <td>...</td>\n      <td>74.0</td>\n      <td>92.00</td>\n      <td>74.0</td>\n      <td>44.0</td>\n      <td>7.36</td>\n      <td>7.30</td>\n      <td>33.0</td>\n      <td>42.0</td>\n      <td>86.0</td>\n      <td>94.0</td>\n    </tr>\n    <tr>\n      <th>5999</th>\n      <td>146804</td>\n      <td>19</td>\n      <td>9</td>\n      <td>0</td>\n      <td>55.0</td>\n      <td>0</td>\n      <td>1</td>\n      <td>0</td>\n      <td>1.0</td>\n      <td>1.3</td>\n      <td>...</td>\n      <td>43.0</td>\n      <td>68.67</td>\n      <td>43.0</td>\n      <td>43.0</td>\n      <td>7.41</td>\n      <td>7.30</td>\n      <td>51.0</td>\n      <td>38.0</td>\n      <td>78.0</td>\n      <td>377.0</td>\n    </tr>\n  </tbody>\n</table>\n<p>6000 rows × 66 columns</p>\n</div>"
     },
     "execution_count": 207,
     "metadata": {},
     "output_type": "execute_result"
    }
   ],
   "source": [
    "#df = df.drop(['BUN_first', 'Creatinine_first', 'Na_first', 'Weight_first'], axis=1)\n",
    "df = df.drop(['BUN_first', 'Creatinine_first', 'Na_first'], axis=1)\n",
    "df_copia = df\n",
    "df"
   ],
   "metadata": {
    "collapsed": false,
    "pycharm": {
     "name": "#%%\n"
    }
   }
  },
  {
   "cell_type": "code",
   "execution_count": 208,
   "outputs": [
    {
     "data": {
      "text/plain": "      recordid  SAPS-I  SOFA  In-hospital_death   Age  CCU  CSRU  SICU  \\\n0       132539       6     1                  0  54.0    0     0     1   \n1       132540      16     8                  0  76.0    0     1     0   \n2       132541      21    11                  0  44.0    0     0     0   \n3       132543       7     1                  0  68.0    0     0     0   \n4       132545      17     2                  0  88.0    0     0     0   \n...        ...     ...   ...                ...   ...  ...   ...   ...   \n5995    151939      19     6                  1  52.0    0     0     1   \n5996    151383      13     2                  0  90.0    1     0     0   \n5997    149623      12     9                  0  72.0    1     0     0   \n5998    145366      18    11                  1  52.0    0     0     0   \n5999    146804      19     9                  0  55.0    0     1     0   \n\n      Gender  Creatinine_last  ...  HCO3_diff  K_diff  WBC_diff  Mg_diff  \\\n0        0.0              0.7  ...       -2.0     0.4       1.8     -0.4   \n1        1.0              1.3  ...       -3.0     0.8      -5.9      1.2   \n2        0.0              0.3  ...       -1.0    -0.4      -2.0      0.2   \n3        1.0              0.7  ...        0.0     0.2       3.6      0.2   \n4        0.0              1.0  ...       -2.0     1.9      -1.0     -0.1   \n...      ...              ...  ...        ...     ...       ...      ...   \n5995     1.0              0.6  ...       -1.0     0.7       3.0     -0.4   \n5996     0.0              0.7  ...        1.0    -0.9       0.3      0.2   \n5997     0.0              2.8  ...       -4.0     0.6      -3.1      0.1   \n5998     1.0              1.0  ...       -7.0    -0.9      -2.7     -0.6   \n5999     1.0              1.3  ...        1.0     0.8      -0.6      0.6   \n\n      Glucose_diff  NISysABP_diff  NIDiasABP_diff  pH_diff  PaO2_diff  \\\n0             90.0           19.0            10.0      NaN        NaN   \n1            -41.0          -35.0           -11.0     0.08      204.0   \n2             -2.0           -8.0             0.0     0.04     -108.0   \n3             12.0            0.0           -18.0      NaN        NaN   \n4             21.0            9.0            -1.0      NaN        NaN   \n...            ...            ...             ...      ...        ...   \n5995           1.0            NaN             NaN    -0.03      249.0   \n5996          34.0           19.0             5.0      NaN        NaN   \n5997          11.0           -4.0            12.0    -0.12      -43.0   \n5998         -13.0           41.0            30.0    -0.06        8.0   \n5999           0.0            0.0             0.0    -0.11      299.0   \n\n      PaCO2_diff  \n0            NaN  \n1          -12.0  \n2            0.0  \n3            NaN  \n4            NaN  \n...          ...  \n5995         5.0  \n5996         NaN  \n5997        24.0  \n5998        -9.0  \n5999        13.0  \n\n[6000 rows x 51 columns]",
      "text/html": "<div>\n<style scoped>\n    .dataframe tbody tr th:only-of-type {\n        vertical-align: middle;\n    }\n\n    .dataframe tbody tr th {\n        vertical-align: top;\n    }\n\n    .dataframe thead th {\n        text-align: right;\n    }\n</style>\n<table border=\"1\" class=\"dataframe\">\n  <thead>\n    <tr style=\"text-align: right;\">\n      <th></th>\n      <th>recordid</th>\n      <th>SAPS-I</th>\n      <th>SOFA</th>\n      <th>In-hospital_death</th>\n      <th>Age</th>\n      <th>CCU</th>\n      <th>CSRU</th>\n      <th>SICU</th>\n      <th>Gender</th>\n      <th>Creatinine_last</th>\n      <th>...</th>\n      <th>HCO3_diff</th>\n      <th>K_diff</th>\n      <th>WBC_diff</th>\n      <th>Mg_diff</th>\n      <th>Glucose_diff</th>\n      <th>NISysABP_diff</th>\n      <th>NIDiasABP_diff</th>\n      <th>pH_diff</th>\n      <th>PaO2_diff</th>\n      <th>PaCO2_diff</th>\n    </tr>\n  </thead>\n  <tbody>\n    <tr>\n      <th>0</th>\n      <td>132539</td>\n      <td>6</td>\n      <td>1</td>\n      <td>0</td>\n      <td>54.0</td>\n      <td>0</td>\n      <td>0</td>\n      <td>1</td>\n      <td>0.0</td>\n      <td>0.7</td>\n      <td>...</td>\n      <td>-2.0</td>\n      <td>0.4</td>\n      <td>1.8</td>\n      <td>-0.4</td>\n      <td>90.0</td>\n      <td>19.0</td>\n      <td>10.0</td>\n      <td>NaN</td>\n      <td>NaN</td>\n      <td>NaN</td>\n    </tr>\n    <tr>\n      <th>1</th>\n      <td>132540</td>\n      <td>16</td>\n      <td>8</td>\n      <td>0</td>\n      <td>76.0</td>\n      <td>0</td>\n      <td>1</td>\n      <td>0</td>\n      <td>1.0</td>\n      <td>1.3</td>\n      <td>...</td>\n      <td>-3.0</td>\n      <td>0.8</td>\n      <td>-5.9</td>\n      <td>1.2</td>\n      <td>-41.0</td>\n      <td>-35.0</td>\n      <td>-11.0</td>\n      <td>0.08</td>\n      <td>204.0</td>\n      <td>-12.0</td>\n    </tr>\n    <tr>\n      <th>2</th>\n      <td>132541</td>\n      <td>21</td>\n      <td>11</td>\n      <td>0</td>\n      <td>44.0</td>\n      <td>0</td>\n      <td>0</td>\n      <td>0</td>\n      <td>0.0</td>\n      <td>0.3</td>\n      <td>...</td>\n      <td>-1.0</td>\n      <td>-0.4</td>\n      <td>-2.0</td>\n      <td>0.2</td>\n      <td>-2.0</td>\n      <td>-8.0</td>\n      <td>0.0</td>\n      <td>0.04</td>\n      <td>-108.0</td>\n      <td>0.0</td>\n    </tr>\n    <tr>\n      <th>3</th>\n      <td>132543</td>\n      <td>7</td>\n      <td>1</td>\n      <td>0</td>\n      <td>68.0</td>\n      <td>0</td>\n      <td>0</td>\n      <td>0</td>\n      <td>1.0</td>\n      <td>0.7</td>\n      <td>...</td>\n      <td>0.0</td>\n      <td>0.2</td>\n      <td>3.6</td>\n      <td>0.2</td>\n      <td>12.0</td>\n      <td>0.0</td>\n      <td>-18.0</td>\n      <td>NaN</td>\n      <td>NaN</td>\n      <td>NaN</td>\n    </tr>\n    <tr>\n      <th>4</th>\n      <td>132545</td>\n      <td>17</td>\n      <td>2</td>\n      <td>0</td>\n      <td>88.0</td>\n      <td>0</td>\n      <td>0</td>\n      <td>0</td>\n      <td>0.0</td>\n      <td>1.0</td>\n      <td>...</td>\n      <td>-2.0</td>\n      <td>1.9</td>\n      <td>-1.0</td>\n      <td>-0.1</td>\n      <td>21.0</td>\n      <td>9.0</td>\n      <td>-1.0</td>\n      <td>NaN</td>\n      <td>NaN</td>\n      <td>NaN</td>\n    </tr>\n    <tr>\n      <th>...</th>\n      <td>...</td>\n      <td>...</td>\n      <td>...</td>\n      <td>...</td>\n      <td>...</td>\n      <td>...</td>\n      <td>...</td>\n      <td>...</td>\n      <td>...</td>\n      <td>...</td>\n      <td>...</td>\n      <td>...</td>\n      <td>...</td>\n      <td>...</td>\n      <td>...</td>\n      <td>...</td>\n      <td>...</td>\n      <td>...</td>\n      <td>...</td>\n      <td>...</td>\n      <td>...</td>\n    </tr>\n    <tr>\n      <th>5995</th>\n      <td>151939</td>\n      <td>19</td>\n      <td>6</td>\n      <td>1</td>\n      <td>52.0</td>\n      <td>0</td>\n      <td>0</td>\n      <td>1</td>\n      <td>1.0</td>\n      <td>0.6</td>\n      <td>...</td>\n      <td>-1.0</td>\n      <td>0.7</td>\n      <td>3.0</td>\n      <td>-0.4</td>\n      <td>1.0</td>\n      <td>NaN</td>\n      <td>NaN</td>\n      <td>-0.03</td>\n      <td>249.0</td>\n      <td>5.0</td>\n    </tr>\n    <tr>\n      <th>5996</th>\n      <td>151383</td>\n      <td>13</td>\n      <td>2</td>\n      <td>0</td>\n      <td>90.0</td>\n      <td>1</td>\n      <td>0</td>\n      <td>0</td>\n      <td>0.0</td>\n      <td>0.7</td>\n      <td>...</td>\n      <td>1.0</td>\n      <td>-0.9</td>\n      <td>0.3</td>\n      <td>0.2</td>\n      <td>34.0</td>\n      <td>19.0</td>\n      <td>5.0</td>\n      <td>NaN</td>\n      <td>NaN</td>\n      <td>NaN</td>\n    </tr>\n    <tr>\n      <th>5997</th>\n      <td>149623</td>\n      <td>12</td>\n      <td>9</td>\n      <td>0</td>\n      <td>72.0</td>\n      <td>1</td>\n      <td>0</td>\n      <td>0</td>\n      <td>0.0</td>\n      <td>2.8</td>\n      <td>...</td>\n      <td>-4.0</td>\n      <td>0.6</td>\n      <td>-3.1</td>\n      <td>0.1</td>\n      <td>11.0</td>\n      <td>-4.0</td>\n      <td>12.0</td>\n      <td>-0.12</td>\n      <td>-43.0</td>\n      <td>24.0</td>\n    </tr>\n    <tr>\n      <th>5998</th>\n      <td>145366</td>\n      <td>18</td>\n      <td>11</td>\n      <td>1</td>\n      <td>52.0</td>\n      <td>0</td>\n      <td>0</td>\n      <td>0</td>\n      <td>1.0</td>\n      <td>1.0</td>\n      <td>...</td>\n      <td>-7.0</td>\n      <td>-0.9</td>\n      <td>-2.7</td>\n      <td>-0.6</td>\n      <td>-13.0</td>\n      <td>41.0</td>\n      <td>30.0</td>\n      <td>-0.06</td>\n      <td>8.0</td>\n      <td>-9.0</td>\n    </tr>\n    <tr>\n      <th>5999</th>\n      <td>146804</td>\n      <td>19</td>\n      <td>9</td>\n      <td>0</td>\n      <td>55.0</td>\n      <td>0</td>\n      <td>1</td>\n      <td>0</td>\n      <td>1.0</td>\n      <td>1.3</td>\n      <td>...</td>\n      <td>1.0</td>\n      <td>0.8</td>\n      <td>-0.6</td>\n      <td>0.6</td>\n      <td>0.0</td>\n      <td>0.0</td>\n      <td>0.0</td>\n      <td>-0.11</td>\n      <td>299.0</td>\n      <td>13.0</td>\n    </tr>\n  </tbody>\n</table>\n<p>6000 rows × 51 columns</p>\n</div>"
     },
     "execution_count": 208,
     "metadata": {},
     "output_type": "execute_result"
    }
   ],
   "source": [
    "df['HCT_diff'] = df['HCT_first'] - df['HCT_last']\n",
    "df['HR_diff'] = df['HR_first'] - df['HR_last']\n",
    "df['Temp_diff'] = df['Temp_first'] - df['Temp_last']\n",
    "df['GCS_diff'] = df['GCS_first'] - df['GCS_last']\n",
    "df['Platelets_diff'] = df['Platelets_first'] - df['Platelets_last']\n",
    "df['HCO3_diff'] = df['HCO3_first'] - df['HCO3_last']\n",
    "df['K_diff'] = df['K_first'] - df['K_last']\n",
    "df['WBC_diff'] = df['WBC_first'] - df['WBC_last']\n",
    "df['Mg_diff'] = df['Mg_first'] - df['Mg_last']\n",
    "df['Glucose_diff'] = df['Glucose_first'] - df['Glucose_last']\n",
    "df['NISysABP_diff'] = df['NISysABP_first'] - df['NISysABP_last']\n",
    "df['NIDiasABP_diff'] = df['NIDiasABP_first'] - df['NIDiasABP_last']\n",
    "df['pH_diff'] = df['pH_first'] - df['pH_last']\n",
    "df['PaO2_diff'] = df['PaO2_first'] - df['PaO2_last']\n",
    "df['PaCO2_diff'] = df['PaCO2_first'] - df['PaCO2_last']\n",
    "#df['MAP_diff'] = df['MAP_first'] - df['MAP_last']\n",
    "#df['SysABP_diff'] = df['SysABP_first'] - df['SysABP_last']\n",
    "#df['DiasABP_diff'] = df['DiasABP_first'] - df['DiasABP_last']\n",
    "#df['FiO2_diff'] = df['FiO2_first'] - df['FiO2_last']\n",
    "#df['Lactate_diff'] = df['Lactate_first'] - df['Lactate_last']\n",
    "\n",
    "#df = df.drop(['HCT_first', 'HCT_last', 'HR_first', 'HR_last', 'Temp_first', 'Temp_last', 'GCS_first', 'GCS_last', 'Platelets_first', 'Platelets_last', 'HCO3_first', 'HCO3_last', 'K_first', 'K_last', 'WBC_first', 'WBC_last', 'Mg_first', 'Mg_last', 'Glucose_first', 'Glucose_last', 'NISysABP_first', 'NISysABP_last', 'NIDiasABP_first', 'NIDiasABP_last', 'pH_first', 'pH_last', 'PaO2_first', 'PaO2_last', 'PaCO2_first', 'PaCO2_last',  'MAP_first', 'MAP_last', 'SysABP_first', 'SysABP_last', 'DiasABP_first', 'DiasABP_last', 'FiO2_first', 'FiO2_last', 'Lactate_first', 'Lactate_last' ], axis=1)\n",
    "df = df.drop(['HCT_first', 'HCT_last', 'HR_first', 'HR_last', 'Temp_first', 'Temp_last', 'GCS_first', 'GCS_last', 'Platelets_first', 'Platelets_last', 'HCO3_first', 'HCO3_last', 'K_first', 'K_last', 'WBC_first', 'WBC_last', 'Mg_first', 'Mg_last', 'Glucose_first', 'Glucose_last', 'NISysABP_first', 'NISysABP_last', 'NIDiasABP_first', 'NIDiasABP_last', 'pH_first', 'pH_last', 'PaO2_first', 'PaO2_last', 'PaCO2_first', 'PaCO2_last'], axis=1)\n",
    "df"
   ],
   "metadata": {
    "collapsed": false,
    "pycharm": {
     "name": "#%%\n"
    }
   }
  },
  {
   "cell_type": "code",
   "execution_count": 209,
   "outputs": [],
   "source": [
    "def plot_correlation_heatmap(df):\n",
    "    plt.figure(figsize=(20,20))\n",
    "    corr = df.corr()\n",
    "    ax = sns.heatmap(\n",
    "        corr,\n",
    "        vmin=-1, vmax=1, center=0,\n",
    "        cmap=sns.diverging_palette(20, 220, n=200),\n",
    "        square=True, annot=True\n",
    "    )\n",
    "    ax.set_xticklabels(\n",
    "        ax.get_xticklabels(),\n",
    "        rotation=45,\n",
    "        horizontalalignment='right'\n",
    "    )\n",
    "    ax.set_yticklabels(\n",
    "        ax.get_yticklabels(),\n",
    "        rotation=45,\n",
    "\n",
    "    );"
   ],
   "metadata": {
    "collapsed": false,
    "pycharm": {
     "name": "#%%\n"
    }
   }
  },
  {
   "cell_type": "code",
   "execution_count": 210,
   "outputs": [],
   "source": [
    "cat_var = []\n",
    "num_var = []\n",
    "for cat in list(df.columns):\n",
    "    if len(df[cat].unique()) <=3: #conta anche i Nan come valori\n",
    "        cat_var.append(cat)\n",
    "    else:\n",
    "        num_var.append(cat)\n",
    "\n",
    "categorical_df = df[cat_var]\n",
    "numerical_df = df[num_var]"
   ],
   "metadata": {
    "collapsed": false,
    "pycharm": {
     "name": "#%%\n"
    }
   }
  },
  {
   "cell_type": "code",
   "execution_count": 211,
   "outputs": [
    {
     "data": {
      "text/plain": "      recordid  SAPS-I  SOFA   Age  Creatinine_last  BUN_last  HR_median  \\\n0       132539       6     1  54.0              0.7       8.0       73.0   \n1       132540      16     8  76.0              1.3      21.0       80.0   \n2       132541      21    11  44.0              0.3       3.0       85.5   \n3       132543       7     1  68.0              0.7      10.0       74.0   \n4       132545      17     2  88.0              1.0      25.0       73.0   \n...        ...     ...   ...   ...              ...       ...        ...   \n5995    151939      19     6  52.0              0.6       9.0      101.0   \n5996    151383      13     2  90.0              0.7      23.0      108.0   \n5997    149623      12     9  72.0              2.8      67.0      100.0   \n5998    145366      18    11  52.0              1.0      25.0      108.0   \n5999    146804      19     9  55.0              1.3      23.0       80.0   \n\n      HR_highest  HR_lowest  Temp_median  ...  HCO3_diff  K_diff  WBC_diff  \\\n0           86.0       58.0        37.70  ...       -2.0     0.4       1.8   \n1           90.0       65.0        37.45  ...       -3.0     0.8      -5.9   \n2          113.0       57.0        37.85  ...       -1.0    -0.4      -2.0   \n3           88.0       57.0        36.40  ...        0.0     0.2       3.6   \n4           94.0       65.0        37.00  ...       -2.0     1.9      -1.0   \n...          ...        ...          ...  ...        ...     ...       ...   \n5995       132.0       59.0        36.70  ...       -1.0     0.7       3.0   \n5996       124.0       84.0        36.75  ...        1.0    -0.9       0.3   \n5997       123.0       79.0        37.05  ...       -4.0     0.6      -3.1   \n5998       143.0       68.0        36.90  ...       -7.0    -0.9      -2.7   \n5999        98.0       69.0        37.60  ...        1.0     0.8      -0.6   \n\n      Mg_diff  Glucose_diff  NISysABP_diff  NIDiasABP_diff  pH_diff  \\\n0        -0.4          90.0           19.0            10.0      NaN   \n1         1.2         -41.0          -35.0           -11.0     0.08   \n2         0.2          -2.0           -8.0             0.0     0.04   \n3         0.2          12.0            0.0           -18.0      NaN   \n4        -0.1          21.0            9.0            -1.0      NaN   \n...       ...           ...            ...             ...      ...   \n5995     -0.4           1.0            NaN             NaN    -0.03   \n5996      0.2          34.0           19.0             5.0      NaN   \n5997      0.1          11.0           -4.0            12.0    -0.12   \n5998     -0.6         -13.0           41.0            30.0    -0.06   \n5999      0.6           0.0            0.0             0.0    -0.11   \n\n      PaO2_diff  PaCO2_diff  \n0           NaN         NaN  \n1         204.0       -12.0  \n2        -108.0         0.0  \n3           NaN         NaN  \n4           NaN         NaN  \n...         ...         ...  \n5995      249.0         5.0  \n5996        NaN         NaN  \n5997      -43.0        24.0  \n5998        8.0        -9.0  \n5999      299.0        13.0  \n\n[6000 rows x 46 columns]",
      "text/html": "<div>\n<style scoped>\n    .dataframe tbody tr th:only-of-type {\n        vertical-align: middle;\n    }\n\n    .dataframe tbody tr th {\n        vertical-align: top;\n    }\n\n    .dataframe thead th {\n        text-align: right;\n    }\n</style>\n<table border=\"1\" class=\"dataframe\">\n  <thead>\n    <tr style=\"text-align: right;\">\n      <th></th>\n      <th>recordid</th>\n      <th>SAPS-I</th>\n      <th>SOFA</th>\n      <th>Age</th>\n      <th>Creatinine_last</th>\n      <th>BUN_last</th>\n      <th>HR_median</th>\n      <th>HR_highest</th>\n      <th>HR_lowest</th>\n      <th>Temp_median</th>\n      <th>...</th>\n      <th>HCO3_diff</th>\n      <th>K_diff</th>\n      <th>WBC_diff</th>\n      <th>Mg_diff</th>\n      <th>Glucose_diff</th>\n      <th>NISysABP_diff</th>\n      <th>NIDiasABP_diff</th>\n      <th>pH_diff</th>\n      <th>PaO2_diff</th>\n      <th>PaCO2_diff</th>\n    </tr>\n  </thead>\n  <tbody>\n    <tr>\n      <th>0</th>\n      <td>132539</td>\n      <td>6</td>\n      <td>1</td>\n      <td>54.0</td>\n      <td>0.7</td>\n      <td>8.0</td>\n      <td>73.0</td>\n      <td>86.0</td>\n      <td>58.0</td>\n      <td>37.70</td>\n      <td>...</td>\n      <td>-2.0</td>\n      <td>0.4</td>\n      <td>1.8</td>\n      <td>-0.4</td>\n      <td>90.0</td>\n      <td>19.0</td>\n      <td>10.0</td>\n      <td>NaN</td>\n      <td>NaN</td>\n      <td>NaN</td>\n    </tr>\n    <tr>\n      <th>1</th>\n      <td>132540</td>\n      <td>16</td>\n      <td>8</td>\n      <td>76.0</td>\n      <td>1.3</td>\n      <td>21.0</td>\n      <td>80.0</td>\n      <td>90.0</td>\n      <td>65.0</td>\n      <td>37.45</td>\n      <td>...</td>\n      <td>-3.0</td>\n      <td>0.8</td>\n      <td>-5.9</td>\n      <td>1.2</td>\n      <td>-41.0</td>\n      <td>-35.0</td>\n      <td>-11.0</td>\n      <td>0.08</td>\n      <td>204.0</td>\n      <td>-12.0</td>\n    </tr>\n    <tr>\n      <th>2</th>\n      <td>132541</td>\n      <td>21</td>\n      <td>11</td>\n      <td>44.0</td>\n      <td>0.3</td>\n      <td>3.0</td>\n      <td>85.5</td>\n      <td>113.0</td>\n      <td>57.0</td>\n      <td>37.85</td>\n      <td>...</td>\n      <td>-1.0</td>\n      <td>-0.4</td>\n      <td>-2.0</td>\n      <td>0.2</td>\n      <td>-2.0</td>\n      <td>-8.0</td>\n      <td>0.0</td>\n      <td>0.04</td>\n      <td>-108.0</td>\n      <td>0.0</td>\n    </tr>\n    <tr>\n      <th>3</th>\n      <td>132543</td>\n      <td>7</td>\n      <td>1</td>\n      <td>68.0</td>\n      <td>0.7</td>\n      <td>10.0</td>\n      <td>74.0</td>\n      <td>88.0</td>\n      <td>57.0</td>\n      <td>36.40</td>\n      <td>...</td>\n      <td>0.0</td>\n      <td>0.2</td>\n      <td>3.6</td>\n      <td>0.2</td>\n      <td>12.0</td>\n      <td>0.0</td>\n      <td>-18.0</td>\n      <td>NaN</td>\n      <td>NaN</td>\n      <td>NaN</td>\n    </tr>\n    <tr>\n      <th>4</th>\n      <td>132545</td>\n      <td>17</td>\n      <td>2</td>\n      <td>88.0</td>\n      <td>1.0</td>\n      <td>25.0</td>\n      <td>73.0</td>\n      <td>94.0</td>\n      <td>65.0</td>\n      <td>37.00</td>\n      <td>...</td>\n      <td>-2.0</td>\n      <td>1.9</td>\n      <td>-1.0</td>\n      <td>-0.1</td>\n      <td>21.0</td>\n      <td>9.0</td>\n      <td>-1.0</td>\n      <td>NaN</td>\n      <td>NaN</td>\n      <td>NaN</td>\n    </tr>\n    <tr>\n      <th>...</th>\n      <td>...</td>\n      <td>...</td>\n      <td>...</td>\n      <td>...</td>\n      <td>...</td>\n      <td>...</td>\n      <td>...</td>\n      <td>...</td>\n      <td>...</td>\n      <td>...</td>\n      <td>...</td>\n      <td>...</td>\n      <td>...</td>\n      <td>...</td>\n      <td>...</td>\n      <td>...</td>\n      <td>...</td>\n      <td>...</td>\n      <td>...</td>\n      <td>...</td>\n      <td>...</td>\n    </tr>\n    <tr>\n      <th>5995</th>\n      <td>151939</td>\n      <td>19</td>\n      <td>6</td>\n      <td>52.0</td>\n      <td>0.6</td>\n      <td>9.0</td>\n      <td>101.0</td>\n      <td>132.0</td>\n      <td>59.0</td>\n      <td>36.70</td>\n      <td>...</td>\n      <td>-1.0</td>\n      <td>0.7</td>\n      <td>3.0</td>\n      <td>-0.4</td>\n      <td>1.0</td>\n      <td>NaN</td>\n      <td>NaN</td>\n      <td>-0.03</td>\n      <td>249.0</td>\n      <td>5.0</td>\n    </tr>\n    <tr>\n      <th>5996</th>\n      <td>151383</td>\n      <td>13</td>\n      <td>2</td>\n      <td>90.0</td>\n      <td>0.7</td>\n      <td>23.0</td>\n      <td>108.0</td>\n      <td>124.0</td>\n      <td>84.0</td>\n      <td>36.75</td>\n      <td>...</td>\n      <td>1.0</td>\n      <td>-0.9</td>\n      <td>0.3</td>\n      <td>0.2</td>\n      <td>34.0</td>\n      <td>19.0</td>\n      <td>5.0</td>\n      <td>NaN</td>\n      <td>NaN</td>\n      <td>NaN</td>\n    </tr>\n    <tr>\n      <th>5997</th>\n      <td>149623</td>\n      <td>12</td>\n      <td>9</td>\n      <td>72.0</td>\n      <td>2.8</td>\n      <td>67.0</td>\n      <td>100.0</td>\n      <td>123.0</td>\n      <td>79.0</td>\n      <td>37.05</td>\n      <td>...</td>\n      <td>-4.0</td>\n      <td>0.6</td>\n      <td>-3.1</td>\n      <td>0.1</td>\n      <td>11.0</td>\n      <td>-4.0</td>\n      <td>12.0</td>\n      <td>-0.12</td>\n      <td>-43.0</td>\n      <td>24.0</td>\n    </tr>\n    <tr>\n      <th>5998</th>\n      <td>145366</td>\n      <td>18</td>\n      <td>11</td>\n      <td>52.0</td>\n      <td>1.0</td>\n      <td>25.0</td>\n      <td>108.0</td>\n      <td>143.0</td>\n      <td>68.0</td>\n      <td>36.90</td>\n      <td>...</td>\n      <td>-7.0</td>\n      <td>-0.9</td>\n      <td>-2.7</td>\n      <td>-0.6</td>\n      <td>-13.0</td>\n      <td>41.0</td>\n      <td>30.0</td>\n      <td>-0.06</td>\n      <td>8.0</td>\n      <td>-9.0</td>\n    </tr>\n    <tr>\n      <th>5999</th>\n      <td>146804</td>\n      <td>19</td>\n      <td>9</td>\n      <td>55.0</td>\n      <td>1.3</td>\n      <td>23.0</td>\n      <td>80.0</td>\n      <td>98.0</td>\n      <td>69.0</td>\n      <td>37.60</td>\n      <td>...</td>\n      <td>1.0</td>\n      <td>0.8</td>\n      <td>-0.6</td>\n      <td>0.6</td>\n      <td>0.0</td>\n      <td>0.0</td>\n      <td>0.0</td>\n      <td>-0.11</td>\n      <td>299.0</td>\n      <td>13.0</td>\n    </tr>\n  </tbody>\n</table>\n<p>6000 rows × 46 columns</p>\n</div>"
     },
     "execution_count": 211,
     "metadata": {},
     "output_type": "execute_result"
    }
   ],
   "source": [
    "numerical_df"
   ],
   "metadata": {
    "collapsed": false,
    "pycharm": {
     "name": "#%%\n"
    }
   }
  },
  {
   "cell_type": "code",
   "execution_count": 214,
   "outputs": [
    {
     "data": {
      "text/plain": "Empty DataFrame\nColumns: []\nIndex: [0, 1, 2, 3, 4, 5, 6, 7, 8, 9, 10, 11, 12, 13, 14, 15, 16, 17, 18, 19, 20, 21, 22, 23, 24, 25, 26, 27, 28, 29, 30, 31, 32, 33, 34, 35, 36, 37, 38, 39, 40, 41, 42, 43, 44, 45, 46, 47, 48, 49, 50, 51, 52, 53, 54, 55, 56, 57, 58, 59, 60, 61, 62, 63, 64, 65, 66, 67, 68, 69, 70, 71, 72, 73, 74, 75, 76, 77, 78, 79, 80, 81, 82, 83, 84, 85, 86, 87, 88, 89, 90, 91, 92, 93, 94, 95, 96, 97, 98, 99, ...]\n\n[6000 rows x 0 columns]",
      "text/html": "<div>\n<style scoped>\n    .dataframe tbody tr th:only-of-type {\n        vertical-align: middle;\n    }\n\n    .dataframe tbody tr th {\n        vertical-align: top;\n    }\n\n    .dataframe thead th {\n        text-align: right;\n    }\n</style>\n<table border=\"1\" class=\"dataframe\">\n  <thead>\n    <tr style=\"text-align: right;\">\n      <th></th>\n    </tr>\n  </thead>\n  <tbody>\n    <tr>\n      <th>0</th>\n    </tr>\n    <tr>\n      <th>1</th>\n    </tr>\n    <tr>\n      <th>2</th>\n    </tr>\n    <tr>\n      <th>3</th>\n    </tr>\n    <tr>\n      <th>4</th>\n    </tr>\n    <tr>\n      <th>...</th>\n    </tr>\n    <tr>\n      <th>5995</th>\n    </tr>\n    <tr>\n      <th>5996</th>\n    </tr>\n    <tr>\n      <th>5997</th>\n    </tr>\n    <tr>\n      <th>5998</th>\n    </tr>\n    <tr>\n      <th>5999</th>\n    </tr>\n  </tbody>\n</table>\n<p>6000 rows × 0 columns</p>\n</div>"
     },
     "execution_count": 214,
     "metadata": {},
     "output_type": "execute_result"
    }
   ],
   "source": [
    "for x in list(numerical_df.columns):\n",
    "    if 'highest' or 'median' or 'lowest' in x:\n",
    "        numerical_df = numerical_df.drop([x], axis=1)\n",
    "numerical_df\n",
    "\n",
    "#sistemare!!!"
   ],
   "metadata": {
    "collapsed": false,
    "pycharm": {
     "name": "#%%\n"
    }
   }
  },
  {
   "cell_type": "code",
   "execution_count": 213,
   "outputs": [
    {
     "name": "stderr",
     "output_type": "stream",
     "text": [
      "C:\\Users\\Alice Donati\\AppData\\Local\\Programs\\Python\\Python39\\lib\\site-packages\\seaborn\\matrix.py:305: UserWarning: Attempting to set identical left == right == 0 results in singular transformations; automatically expanding.\n",
      "  ax.set(xlim=(0, self.data.shape[1]), ylim=(0, self.data.shape[0]))\n",
      "C:\\Users\\Alice Donati\\AppData\\Local\\Programs\\Python\\Python39\\lib\\site-packages\\seaborn\\matrix.py:305: UserWarning: Attempting to set identical bottom == top == 0 results in singular transformations; automatically expanding.\n",
      "  ax.set(xlim=(0, self.data.shape[1]), ylim=(0, self.data.shape[0]))\n"
     ]
    },
    {
     "data": {
      "text/plain": "<Figure size 1440x1440 with 2 Axes>",
      "image/png": "[encoded data removed]"
     },
     "metadata": {
      "needs_background": "light"
     },
     "output_type": "display_data"
    }
   ],
   "source": [
    "plot_correlation_heatmap(numerical_df)"
   ],
   "metadata": {
    "collapsed": false,
    "pycharm": {
     "name": "#%%\n"
    }
   }
  },
  {
   "cell_type": "code",
   "execution_count": 213,
   "outputs": [],
   "source": [],
   "metadata": {
    "collapsed": false,
    "pycharm": {
     "name": "#%%\n"
    }
   }
  }
 ],
 "metadata": {
  "kernelspec": {
   "display_name": "Python 3",
   "language": "python",
   "name": "python3"
  },
  "language_info": {
   "codemirror_mode": {
    "name": "ipython",
    "version": 2
   },
   "file_extension": ".py",
   "mimetype": "text/x-python",
   "name": "python",
   "nbconvert_exporter": "python",
   "pygments_lexer": "ipython2",
   "version": "2.7.6"
  }
 },
 "nbformat": 4,
 "nbformat_minor": 0
}