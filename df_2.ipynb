{
 "cells": [
  {
   "cell_type": "code",
   "execution_count": 1,
   "metadata": {
    "pycharm": {
     "name": "#%%\n"
    }
   },
   "outputs": [],
   "source": [
    "# Import tutto quanto\n",
    "import pandas as pd\n",
    "import matplotlib.pyplot as plt\n",
    "import seaborn as sns\n",
    "import numpy as np\n",
    "import copy"
   ]
  },
  {
   "cell_type": "code",
   "execution_count": null,
   "outputs": [],
   "source": [
    "# LOADING DATA\n",
    "\n",
    "df=pd.read_csv(\"ICU_Challenge_Dataset.csv\", sep=\",\")\n",
    "df_description = df.describe()\n",
    "columns = df.columns\n"
   ],
   "metadata": {
    "collapsed": false,
    "pycharm": {
     "name": "#%%\n"
    }
   }
  },
  {
   "cell_type": "code",
   "execution_count": null,
   "outputs": [],
   "source": [
    "# MISSING DATA - da esplorare\n",
    "# print(df[df.columns[df.isna().any()]])\n",
    "percent_missing = df.isnull().sum() * 100 / len(df)\n",
    "missing_value_df = pd.DataFrame({'column_name': df.columns,\n",
    "                                 'percent_missing': percent_missing})\n",
    "missing_value_df.sort_values('percent_missing', inplace=True)\n",
    "print(missing_value_df)"
   ],
   "metadata": {
    "collapsed": false,
    "pycharm": {
     "name": "#%%\n"
    }
   }
  },
  {
   "cell_type": "code",
   "execution_count": null,
   "outputs": [],
   "source": [
    "df_col_keep = missing_value_df[missing_value_df['percent_missing']<50]\n",
    "df_col = df_col_keep['column_name']\n",
    "\n",
    "df=df[df_col]\n",
    "df"
   ],
   "metadata": {
    "collapsed": false,
    "pycharm": {
     "name": "#%%\n"
    }
   }
  },
  {
   "cell_type": "code",
   "execution_count": null,
   "outputs": [],
   "source": [
    "print(np.unique(df.dtypes))\n",
    "\n",
    "int_var = list(df.columns[df.dtypes == np.int64])\n",
    "float_var = list(df.columns[df.dtypes == np.float64])\n",
    "\n",
    "cat_var = []\n",
    "num_var = []\n",
    "for cat in list(df.columns):\n",
    "    if len(df[cat].unique()) <=3: #conta anche i Nan come valori\n",
    "        cat_var.append(cat)\n",
    "    else:\n",
    "        num_var.append(cat)\n",
    "\n",
    "categorical_df = df[cat_var]\n",
    "numerical_df = df[num_var]"
   ],
   "metadata": {
    "collapsed": false,
    "pycharm": {
     "name": "#%%\n"
    }
   }
  },
  {
   "cell_type": "code",
   "execution_count": null,
   "outputs": [],
   "source": [
    "#normal test and for similarity\n",
    "#different\n",
    "df = df.drop(['BUN_first', 'Creatinine_first', 'Na_first', 'Weight_first'], axis=1)\n",
    "df_copia = df\n",
    "df"
   ],
   "metadata": {
    "collapsed": false,
    "pycharm": {
     "name": "#%%\n"
    }
   }
  },
  {
   "cell_type": "code",
   "execution_count": null,
   "outputs": [],
   "source": [
    "df['HCT_diff'] = df['HCT_first'] - df['HCT_last']\n",
    "df['HR_diff'] = df['HR_first'] - df['HR_last']\n",
    "df['Temp_diff'] = df['Temp_first'] - df['Temp_last']\n",
    "df['GCS_diff'] = df['GCS_first'] - df['GCS_last']\n",
    "df['Platelets_diff'] = df['Platelets_first'] - df['Platelets_last']\n",
    "df['HCO3_diff'] = df['HCO3_first'] - df['HCO3_last']\n",
    "df['K_diff'] = df['K_first'] - df['K_last']\n",
    "df['WBC_diff'] = df['WBC_first'] - df['WBC_last']\n",
    "df['Mg_diff'] = df['Mg_first'] - df['Mg_last']\n",
    "df['Glucose_diff'] = df['Glucose_first'] - df['Glucose_last']\n",
    "df['NISysABP_diff'] = df['NISysABP_first'] - df['NISysABP_last']\n",
    "df['NIDiasABP_diff'] = df['NIDiasABP_first'] - df['NIDiasABP_last']\n",
    "df['pH_diff'] = df['pH_first'] - df['pH_last']\n",
    "df['PaO2_diff'] = df['PaO2_first'] - df['PaO2_last']\n",
    "df['PaCO2_diff'] = df['PaCO2_first'] - df['PaCO2_last']\n",
    "df['MAP_diff'] = df['MAP_first'] - df['MAP_last']\n",
    "df['SysABP_diff'] = df['SysABP_first'] - df['SysABP_last']\n",
    "df['DiasABP_diff'] = df['DiasABP_first'] - df['DiasABP_last']\n",
    "df['FiO2_diff'] = df['FiO2_first'] - df['FiO2_last']\n",
    "df['Lactate_diff'] = df['Lactate_first'] - df['Lactate_last']\n",
    "\n",
    "df = df.drop(['HCT_first', 'HCT_last', 'HR_first', 'HR_last', 'Temp_first', 'Temp_last', 'GCS_first', 'GCS_last', 'Platelets_first', 'Platelets_last', 'HCO3_first', 'HCO3_last', 'K_first', 'K_last', 'WBC_first', 'WBC_last', 'Mg_first', 'Mg_last', 'Glucose_first', 'Glucose_last', 'NISysABP_first', 'NISysABP_last', 'NIDiasABP_first', 'NIDiasABP_last', 'pH_first', 'pH_last', 'PaO2_first', 'PaO2_last', 'PaCO2_first', 'PaCO2_last',  'MAP_first', 'MAP_last', 'SysABP_first', 'SysABP_last', 'DiasABP_first', 'DiasABP_last', 'FiO2_first', 'FiO2_last', 'Lactate_first', 'Lactate_last' ], axis=1)\n",
    "df"
   ],
   "metadata": {
    "collapsed": false,
    "pycharm": {
     "name": "#%%\n"
    }
   }
  },
  {
   "cell_type": "code",
   "execution_count": null,
   "outputs": [],
   "source": [
    "def plot_correlation_heatmap(df):\n",
    "    plt.figure(figsize=(20,20))\n",
    "    corr = df.corr()\n",
    "    ax = sns.heatmap(\n",
    "        corr,\n",
    "        vmin=-1, vmax=1, center=0,\n",
    "        cmap=sns.diverging_palette(20, 220, n=200),\n",
    "        square=True, annot=True\n",
    "    )\n",
    "    ax.set_xticklabels(\n",
    "        ax.get_xticklabels(),\n",
    "        rotation=45,\n",
    "        horizontalalignment='right'\n",
    "    )\n",
    "    ax.set_yticklabels(\n",
    "        ax.get_yticklabels(),\n",
    "        rotation=45,\n",
    "\n",
    "    );"
   ],
   "metadata": {
    "collapsed": false,
    "pycharm": {
     "name": "#%%\n"
    }
   }
  },
  {
   "cell_type": "code",
   "execution_count": null,
   "outputs": [],
   "source": [
    "cat_var = []\n",
    "num_var = []\n",
    "for cat in list(df.columns):\n",
    "    if len(df[cat].unique()) <=3: #conta anche i Nan come valori\n",
    "        cat_var.append(cat)\n",
    "    else:\n",
    "        num_var.append(cat)\n",
    "\n",
    "categorical_df = df[cat_var]\n",
    "numerical_df = df[num_var]"
   ],
   "metadata": {
    "collapsed": false,
    "pycharm": {
     "name": "#%%\n"
    }
   }
  },
  {
   "cell_type": "code",
   "execution_count": null,
   "outputs": [],
   "source": [
    "numerical_df"
   ],
   "metadata": {
    "collapsed": false,
    "pycharm": {
     "name": "#%%\n"
    }
   }
  },
  {
   "cell_type": "code",
   "execution_count": null,
   "outputs": [],
   "source": [
    "numerical_df\n",
    "to_drop = []\n",
    "\n",
    "for x in list(numerical_df.columns):\n",
    "    if 'highest' in x:\n",
    "        to_drop.append(x)\n",
    "    if 'median' in x:\n",
    "        to_drop.append(x)\n",
    "    if 'lowest' in x:\n",
    "        to_drop.append(x)\n",
    "to_drop"
   ],
   "metadata": {
    "collapsed": false,
    "pycharm": {
     "name": "#%%\n"
    }
   }
  },
  {
   "cell_type": "code",
   "execution_count": null,
   "outputs": [],
   "source": [
    "numerical_df = numerical_df.drop(to_drop, axis=1)\n",
    "numerical_df"
   ],
   "metadata": {
    "collapsed": false,
    "pycharm": {
     "name": "#%%\n"
    }
   }
  },
  {
   "cell_type": "code",
   "execution_count": null,
   "outputs": [],
   "source": [
    "numerical_df\n",
    "plot_correlation_heatmap(numerical_df)"
   ],
   "metadata": {
    "collapsed": false,
    "pycharm": {
     "name": "#%%\n"
    }
   }
  },
  {
   "cell_type": "code",
   "execution_count": null,
   "outputs": [],
   "source": [
    "mean_values = numerical_df.mean()\n",
    "mean_values"
   ],
   "metadata": {
    "collapsed": false,
    "pycharm": {
     "name": "#%%\n"
    }
   }
  },
  {
   "cell_type": "code",
   "execution_count": null,
   "outputs": [],
   "source": [
    "numerical_df = numerical_df.fillna(value=mean_values)\n",
    "numerical_df.isnull().sum()"
   ],
   "metadata": {
    "collapsed": false,
    "pycharm": {
     "name": "#%%\n"
    }
   }
  },
  {
   "cell_type": "code",
   "execution_count": null,
   "outputs": [],
   "source": [
    "numerical_df.hist(figsize=(10,10))"
   ],
   "metadata": {
    "collapsed": false,
    "pycharm": {
     "name": "#%%\n"
    }
   }
  },
  {
   "cell_type": "code",
   "execution_count": null,
   "outputs": [],
   "source": [
    "import matplotlib.pyplot as plt\n",
    "crea_log = np.log(numerical_df['Creatinine_last'])"
   ],
   "metadata": {
    "collapsed": false,
    "pycharm": {
     "name": "#%%\n"
    }
   }
  },
  {
   "cell_type": "code",
   "execution_count": null,
   "outputs": [],
   "source": [
    "import matplotlib.pyplot as plt\n",
    "bun_log= np.log(numerical_df['BUN_last'])\n",
    "sns.distplot(bun_log)\n",
    "fig = plt.figure()\n",
    "bun_log.hist()"
   ],
   "metadata": {
    "collapsed": false,
    "pycharm": {
     "name": "#%%\n"
    }
   }
  },
  {
   "cell_type": "code",
   "execution_count": null,
   "outputs": [],
   "source": [
    "numerical_df=numerical_df.drop(['Creatinine_last', 'BUN_last'], axis=1)\n",
    "numerical_df.insert(2, 'Creatinine_last_log', crea_log)\n",
    "numerical_df.insert(3, 'BUN_last_log', bun_log)\n",
    "numerical_df"
   ],
   "metadata": {
    "collapsed": false,
    "pycharm": {
     "name": "#%%\n"
    }
   }
  },
  {
   "cell_type": "code",
   "execution_count": null,
   "outputs": [],
   "source": [
    "import pandas as pd\n",
    "from sklearn.preprocessing import StandardScaler\n",
    "scaler=StandardScaler().fit(numerical_df)\n",
    "scaled_df=pd.DataFrame(scaler.transform(numerical_df))\n",
    "scaled_df.columns = numerical_df.columns\n",
    "\n",
    "scaled_df"
   ],
   "metadata": {
    "collapsed": false,
    "pycharm": {
     "name": "#%%\n"
    }
   }
  },
  {
   "cell_type": "code",
   "execution_count": null,
   "outputs": [],
   "source": [
    "frames=[scaled_df, categorical_df]\n",
    "df_3 = pd.concat(frames, axis=1)\n",
    "df_3"
   ],
   "metadata": {
    "collapsed": false,
    "pycharm": {
     "name": "#%%\n"
    }
   }
  },
  {
   "cell_type": "code",
   "execution_count": null,
   "outputs": [],
   "source": [
    "categorical_df.isnull().sum()"
   ],
   "metadata": {
    "collapsed": false,
    "pycharm": {
     "name": "#%%\n"
    }
   }
  },
  {
   "cell_type": "code",
   "execution_count": null,
   "outputs": [],
   "source": [
    "#tolgo righe con genere nan\n",
    "indexNames = df_3[df_3['Gender'].isnull()].index\n",
    "df_3.drop(indexNames, inplace=True)\n",
    "df_3"
   ],
   "metadata": {
    "collapsed": false,
    "pycharm": {
     "name": "#%%\n"
    }
   }
  },
  {
   "cell_type": "code",
   "execution_count": null,
   "outputs": [],
   "source": [
    "#tolgo righe con mech nan\n",
    "indexNames = df_3[df_3['MechVentLast8Hour'].isnull()].index\n",
    "df_3.drop(indexNames, inplace=True)\n",
    "df_3"
   ],
   "metadata": {
    "collapsed": false,
    "pycharm": {
     "name": "#%%\n"
    }
   }
  },
  {
   "cell_type": "code",
   "execution_count": null,
   "outputs": [],
   "source": [
    "plot_correlation_heatmap(df_3)"
   ],
   "metadata": {
    "collapsed": false,
    "pycharm": {
     "name": "#%%\n"
    }
   }
  },
  {
   "cell_type": "code",
   "execution_count": null,
   "outputs": [],
   "source": [
    "df_3=df_3.drop(['recordid'], axis=1)\n",
    "df_3"
   ],
   "metadata": {
    "collapsed": false,
    "pycharm": {
     "name": "#%%\n"
    }
   }
  },
  {
   "cell_type": "code",
   "execution_count": null,
   "outputs": [],
   "source": [
    "df_3.to_csv('df_3.csv', index=False)"
   ],
   "metadata": {
    "collapsed": false,
    "pycharm": {
     "name": "#%%\n"
    }
   }
  }
 ],
 "metadata": {
  "kernelspec": {
   "display_name": "Python 3 (ipykernel)",
   "language": "python",
   "name": "python3"
  },
  "language_info": {
   "codemirror_mode": {
    "name": "ipython",
    "version": 3
   },
   "file_extension": ".py",
   "mimetype": "text/x-python",
   "name": "python",
   "nbconvert_exporter": "python",
   "pygments_lexer": "ipython3",
   "version": "3.9.10"
  }
 },
 "nbformat": 4,
 "nbformat_minor": 1
}